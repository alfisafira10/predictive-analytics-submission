{
  "cells": [
    {
      "cell_type": "markdown",
      "metadata": {
        "id": "a1HW5Yb391Pc"
      },
      "source": [
        "# **SUBMISSION**\n",
        "***Proyek Pertama : Predictive Analytics***\n",
        "\n",
        "\n",
        "---\n",
        "\n",
        "\n",
        "Nama : Alfi Safira Az Zahrah\n",
        "\n",
        "Kelas : Pengembang Machine Learning & Front-End Web\n",
        "\n",
        "Kelompok : M-06\n",
        "\n",
        "E-mail : alfisafira69@gmail.com\n",
        "\n",
        "---"
      ]
    },
    {
      "cell_type": "markdown",
      "source": [
        "**Konteks**\n",
        "\n",
        "Pada Proyek Pertama dengan studi kasus _Predictive Analytics_ ini, penulis memilih domain proyek Kesehatan. Model yang akan dibuat yakni model untuk prediksi probabilitas gagal jantung berdasarkan fitur-fitur yang ada dengan menerapkan 3 algoritma _Machine Learning_, yakni K-Nearest Neighbor (KNN), Random Forest, dan Boosting Algorithm.\n",
        "\n",
        "**Dataset**\n",
        "\n",
        "Dataset yang digunakan yakni [Heart Failure Prediction Dataset](https://www.kaggle.com/datasets/fedesoriano/heart-failure-prediction) dari Kaggle.com"
      ],
      "metadata": {
        "id": "x5ZqUIbjypA1"
      }
    },
    {
      "cell_type": "markdown",
      "source": [
        "## **Import Library yang dibutuhkan**"
      ],
      "metadata": {
        "id": "wDmmga1WnLxt"
      }
    },
    {
      "cell_type": "code",
      "execution_count": 1,
      "metadata": {
        "id": "Zok_fe3V8w5p"
      },
      "outputs": [],
      "source": [
        "import numpy as np\n",
        "import matplotlib.pyplot as plt\n",
        "import pandas as pd\n",
        "%matplotlib inline\n",
        "import seaborn as sns\n",
        "\n",
        "# data preparation\n",
        "from sklearn.preprocessing import  OneHotEncoder\n",
        "from sklearn.model_selection import train_test_split\n",
        "from sklearn.preprocessing import StandardScaler\n",
        "\n",
        "# model development\n",
        "from sklearn.neighbors import KNeighborsRegressor\n",
        "from sklearn.metrics import mean_squared_error\n",
        "from sklearn.ensemble import RandomForestRegressor\n",
        "from sklearn.ensemble import AdaBoostRegressor\n",
        "from sklearn.model_selection import GridSearchCV\n",
        "from sklearn.model_selection import RandomizedSearchCV"
      ]
    },
    {
      "cell_type": "code",
      "execution_count": 2,
      "metadata": {
        "colab": {
          "base_uri": "https://localhost:8080/"
        },
        "id": "QlJkM0v_Y-NM",
        "outputId": "74bdd003-e23f-424f-fa69-a0c62e432e3f"
      },
      "outputs": [
        {
          "output_type": "stream",
          "name": "stdout",
          "text": [
            "Looking in indexes: https://pypi.org/simple, https://us-python.pkg.dev/colab-wheels/public/simple/\n",
            "Collecting opendatasets\n",
            "  Downloading opendatasets-0.1.22-py3-none-any.whl (15 kB)\n",
            "Requirement already satisfied: tqdm in /usr/local/lib/python3.7/dist-packages (from opendatasets) (4.64.1)\n",
            "Requirement already satisfied: click in /usr/local/lib/python3.7/dist-packages (from opendatasets) (7.1.2)\n",
            "Requirement already satisfied: kaggle in /usr/local/lib/python3.7/dist-packages (from opendatasets) (1.5.12)\n",
            "Requirement already satisfied: certifi in /usr/local/lib/python3.7/dist-packages (from kaggle->opendatasets) (2022.9.24)\n",
            "Requirement already satisfied: six>=1.10 in /usr/local/lib/python3.7/dist-packages (from kaggle->opendatasets) (1.15.0)\n",
            "Requirement already satisfied: python-slugify in /usr/local/lib/python3.7/dist-packages (from kaggle->opendatasets) (6.1.2)\n",
            "Requirement already satisfied: urllib3 in /usr/local/lib/python3.7/dist-packages (from kaggle->opendatasets) (1.24.3)\n",
            "Requirement already satisfied: requests in /usr/local/lib/python3.7/dist-packages (from kaggle->opendatasets) (2.23.0)\n",
            "Requirement already satisfied: python-dateutil in /usr/local/lib/python3.7/dist-packages (from kaggle->opendatasets) (2.8.2)\n",
            "Requirement already satisfied: text-unidecode>=1.3 in /usr/local/lib/python3.7/dist-packages (from python-slugify->kaggle->opendatasets) (1.3)\n",
            "Requirement already satisfied: idna<3,>=2.5 in /usr/local/lib/python3.7/dist-packages (from requests->kaggle->opendatasets) (2.10)\n",
            "Requirement already satisfied: chardet<4,>=3.0.2 in /usr/local/lib/python3.7/dist-packages (from requests->kaggle->opendatasets) (3.0.4)\n",
            "Installing collected packages: opendatasets\n",
            "Successfully installed opendatasets-0.1.22\n"
          ]
        }
      ],
      "source": [
        "!pip install opendatasets"
      ]
    },
    {
      "cell_type": "code",
      "execution_count": 3,
      "metadata": {
        "colab": {
          "base_uri": "https://localhost:8080/",
          "height": 90
        },
        "id": "F86s7cG2ZCtw",
        "outputId": "6ee5dcd4-ed1e-4d4f-e6d7-43a4df641509"
      },
      "outputs": [
        {
          "output_type": "display_data",
          "data": {
            "text/plain": [
              "<IPython.core.display.HTML object>"
            ],
            "text/html": [
              "\n",
              "     <input type=\"file\" id=\"files-35c73ed9-c7af-42a9-91f5-a3c00107cd5f\" name=\"files[]\" multiple disabled\n",
              "        style=\"border:none\" />\n",
              "     <output id=\"result-35c73ed9-c7af-42a9-91f5-a3c00107cd5f\">\n",
              "      Upload widget is only available when the cell has been executed in the\n",
              "      current browser session. Please rerun this cell to enable.\n",
              "      </output>\n",
              "      <script>// Copyright 2017 Google LLC\n",
              "//\n",
              "// Licensed under the Apache License, Version 2.0 (the \"License\");\n",
              "// you may not use this file except in compliance with the License.\n",
              "// You may obtain a copy of the License at\n",
              "//\n",
              "//      http://www.apache.org/licenses/LICENSE-2.0\n",
              "//\n",
              "// Unless required by applicable law or agreed to in writing, software\n",
              "// distributed under the License is distributed on an \"AS IS\" BASIS,\n",
              "// WITHOUT WARRANTIES OR CONDITIONS OF ANY KIND, either express or implied.\n",
              "// See the License for the specific language governing permissions and\n",
              "// limitations under the License.\n",
              "\n",
              "/**\n",
              " * @fileoverview Helpers for google.colab Python module.\n",
              " */\n",
              "(function(scope) {\n",
              "function span(text, styleAttributes = {}) {\n",
              "  const element = document.createElement('span');\n",
              "  element.textContent = text;\n",
              "  for (const key of Object.keys(styleAttributes)) {\n",
              "    element.style[key] = styleAttributes[key];\n",
              "  }\n",
              "  return element;\n",
              "}\n",
              "\n",
              "// Max number of bytes which will be uploaded at a time.\n",
              "const MAX_PAYLOAD_SIZE = 100 * 1024;\n",
              "\n",
              "function _uploadFiles(inputId, outputId) {\n",
              "  const steps = uploadFilesStep(inputId, outputId);\n",
              "  const outputElement = document.getElementById(outputId);\n",
              "  // Cache steps on the outputElement to make it available for the next call\n",
              "  // to uploadFilesContinue from Python.\n",
              "  outputElement.steps = steps;\n",
              "\n",
              "  return _uploadFilesContinue(outputId);\n",
              "}\n",
              "\n",
              "// This is roughly an async generator (not supported in the browser yet),\n",
              "// where there are multiple asynchronous steps and the Python side is going\n",
              "// to poll for completion of each step.\n",
              "// This uses a Promise to block the python side on completion of each step,\n",
              "// then passes the result of the previous step as the input to the next step.\n",
              "function _uploadFilesContinue(outputId) {\n",
              "  const outputElement = document.getElementById(outputId);\n",
              "  const steps = outputElement.steps;\n",
              "\n",
              "  const next = steps.next(outputElement.lastPromiseValue);\n",
              "  return Promise.resolve(next.value.promise).then((value) => {\n",
              "    // Cache the last promise value to make it available to the next\n",
              "    // step of the generator.\n",
              "    outputElement.lastPromiseValue = value;\n",
              "    return next.value.response;\n",
              "  });\n",
              "}\n",
              "\n",
              "/**\n",
              " * Generator function which is called between each async step of the upload\n",
              " * process.\n",
              " * @param {string} inputId Element ID of the input file picker element.\n",
              " * @param {string} outputId Element ID of the output display.\n",
              " * @return {!Iterable<!Object>} Iterable of next steps.\n",
              " */\n",
              "function* uploadFilesStep(inputId, outputId) {\n",
              "  const inputElement = document.getElementById(inputId);\n",
              "  inputElement.disabled = false;\n",
              "\n",
              "  const outputElement = document.getElementById(outputId);\n",
              "  outputElement.innerHTML = '';\n",
              "\n",
              "  const pickedPromise = new Promise((resolve) => {\n",
              "    inputElement.addEventListener('change', (e) => {\n",
              "      resolve(e.target.files);\n",
              "    });\n",
              "  });\n",
              "\n",
              "  const cancel = document.createElement('button');\n",
              "  inputElement.parentElement.appendChild(cancel);\n",
              "  cancel.textContent = 'Cancel upload';\n",
              "  const cancelPromise = new Promise((resolve) => {\n",
              "    cancel.onclick = () => {\n",
              "      resolve(null);\n",
              "    };\n",
              "  });\n",
              "\n",
              "  // Wait for the user to pick the files.\n",
              "  const files = yield {\n",
              "    promise: Promise.race([pickedPromise, cancelPromise]),\n",
              "    response: {\n",
              "      action: 'starting',\n",
              "    }\n",
              "  };\n",
              "\n",
              "  cancel.remove();\n",
              "\n",
              "  // Disable the input element since further picks are not allowed.\n",
              "  inputElement.disabled = true;\n",
              "\n",
              "  if (!files) {\n",
              "    return {\n",
              "      response: {\n",
              "        action: 'complete',\n",
              "      }\n",
              "    };\n",
              "  }\n",
              "\n",
              "  for (const file of files) {\n",
              "    const li = document.createElement('li');\n",
              "    li.append(span(file.name, {fontWeight: 'bold'}));\n",
              "    li.append(span(\n",
              "        `(${file.type || 'n/a'}) - ${file.size} bytes, ` +\n",
              "        `last modified: ${\n",
              "            file.lastModifiedDate ? file.lastModifiedDate.toLocaleDateString() :\n",
              "                                    'n/a'} - `));\n",
              "    const percent = span('0% done');\n",
              "    li.appendChild(percent);\n",
              "\n",
              "    outputElement.appendChild(li);\n",
              "\n",
              "    const fileDataPromise = new Promise((resolve) => {\n",
              "      const reader = new FileReader();\n",
              "      reader.onload = (e) => {\n",
              "        resolve(e.target.result);\n",
              "      };\n",
              "      reader.readAsArrayBuffer(file);\n",
              "    });\n",
              "    // Wait for the data to be ready.\n",
              "    let fileData = yield {\n",
              "      promise: fileDataPromise,\n",
              "      response: {\n",
              "        action: 'continue',\n",
              "      }\n",
              "    };\n",
              "\n",
              "    // Use a chunked sending to avoid message size limits. See b/62115660.\n",
              "    let position = 0;\n",
              "    do {\n",
              "      const length = Math.min(fileData.byteLength - position, MAX_PAYLOAD_SIZE);\n",
              "      const chunk = new Uint8Array(fileData, position, length);\n",
              "      position += length;\n",
              "\n",
              "      const base64 = btoa(String.fromCharCode.apply(null, chunk));\n",
              "      yield {\n",
              "        response: {\n",
              "          action: 'append',\n",
              "          file: file.name,\n",
              "          data: base64,\n",
              "        },\n",
              "      };\n",
              "\n",
              "      let percentDone = fileData.byteLength === 0 ?\n",
              "          100 :\n",
              "          Math.round((position / fileData.byteLength) * 100);\n",
              "      percent.textContent = `${percentDone}% done`;\n",
              "\n",
              "    } while (position < fileData.byteLength);\n",
              "  }\n",
              "\n",
              "  // All done.\n",
              "  yield {\n",
              "    response: {\n",
              "      action: 'complete',\n",
              "    }\n",
              "  };\n",
              "}\n",
              "\n",
              "scope.google = scope.google || {};\n",
              "scope.google.colab = scope.google.colab || {};\n",
              "scope.google.colab._files = {\n",
              "  _uploadFiles,\n",
              "  _uploadFilesContinue,\n",
              "};\n",
              "})(self);\n",
              "</script> "
            ]
          },
          "metadata": {}
        },
        {
          "output_type": "stream",
          "name": "stdout",
          "text": [
            "Saving kaggle.json to kaggle.json\n"
          ]
        },
        {
          "output_type": "execute_result",
          "data": {
            "text/plain": [
              "{'kaggle.json': b'{\"username\":\"alfisafira\",\"key\":\"dce233816e86f0a03dc21498a1b50490\"}'}"
            ]
          },
          "metadata": {},
          "execution_count": 3
        }
      ],
      "source": [
        "# install paket kaggle\n",
        "!pip install -q kaggle\n",
        "\n",
        "# Upload file kaggle.json dari Create New API Token Akun Kaggle\n",
        "from google.colab import files\n",
        "files.upload()"
      ]
    },
    {
      "cell_type": "markdown",
      "source": [
        "## **Load Dataset**"
      ],
      "metadata": {
        "id": "Qfil5CsHnupt"
      }
    },
    {
      "cell_type": "code",
      "execution_count": 4,
      "metadata": {
        "colab": {
          "base_uri": "https://localhost:8080/"
        },
        "id": "114piZspZG0M",
        "outputId": "7686e9b8-ea69-440a-bcdc-2161979b950e"
      },
      "outputs": [
        {
          "output_type": "stream",
          "name": "stdout",
          "text": [
            "Downloading heart-failure-prediction.zip to ./heart-failure-prediction\n"
          ]
        },
        {
          "output_type": "stream",
          "name": "stderr",
          "text": [
            "100%|██████████| 8.56k/8.56k [00:00<00:00, 5.27MB/s]"
          ]
        },
        {
          "output_type": "stream",
          "name": "stdout",
          "text": [
            "\n"
          ]
        },
        {
          "output_type": "stream",
          "name": "stderr",
          "text": [
            "\n"
          ]
        }
      ],
      "source": [
        "import opendatasets as od\n",
        "\n",
        "dataset_url= 'https://www.kaggle.com/datasets/fedesoriano/heart-failure-prediction'\n",
        "od.download('https://www.kaggle.com/datasets/fedesoriano/heart-failure-prediction')"
      ]
    },
    {
      "cell_type": "code",
      "execution_count": 5,
      "metadata": {
        "id": "iZtBSI_cZ8Ce",
        "colab": {
          "base_uri": "https://localhost:8080/",
          "height": 424
        },
        "outputId": "664722b2-6854-4d89-d13a-c3187987c1fa"
      },
      "outputs": [
        {
          "output_type": "execute_result",
          "data": {
            "text/plain": [
              "     Age Sex ChestPainType  RestingBP  Cholesterol  FastingBS RestingECG  \\\n",
              "0     40   M           ATA        140          289          0     Normal   \n",
              "1     49   F           NAP        160          180          0     Normal   \n",
              "2     37   M           ATA        130          283          0         ST   \n",
              "3     48   F           ASY        138          214          0     Normal   \n",
              "4     54   M           NAP        150          195          0     Normal   \n",
              "..   ...  ..           ...        ...          ...        ...        ...   \n",
              "913   45   M            TA        110          264          0     Normal   \n",
              "914   68   M           ASY        144          193          1     Normal   \n",
              "915   57   M           ASY        130          131          0     Normal   \n",
              "916   57   F           ATA        130          236          0        LVH   \n",
              "917   38   M           NAP        138          175          0     Normal   \n",
              "\n",
              "     MaxHR ExerciseAngina  Oldpeak ST_Slope  HeartDisease  \n",
              "0      172              N      0.0       Up             0  \n",
              "1      156              N      1.0     Flat             1  \n",
              "2       98              N      0.0       Up             0  \n",
              "3      108              Y      1.5     Flat             1  \n",
              "4      122              N      0.0       Up             0  \n",
              "..     ...            ...      ...      ...           ...  \n",
              "913    132              N      1.2     Flat             1  \n",
              "914    141              N      3.4     Flat             1  \n",
              "915    115              Y      1.2     Flat             1  \n",
              "916    174              N      0.0     Flat             1  \n",
              "917    173              N      0.0       Up             0  \n",
              "\n",
              "[918 rows x 12 columns]"
            ],
            "text/html": [
              "\n",
              "  <div id=\"df-08ee3dc5-a44f-4ed1-aef4-df761091d1bc\">\n",
              "    <div class=\"colab-df-container\">\n",
              "      <div>\n",
              "<style scoped>\n",
              "    .dataframe tbody tr th:only-of-type {\n",
              "        vertical-align: middle;\n",
              "    }\n",
              "\n",
              "    .dataframe tbody tr th {\n",
              "        vertical-align: top;\n",
              "    }\n",
              "\n",
              "    .dataframe thead th {\n",
              "        text-align: right;\n",
              "    }\n",
              "</style>\n",
              "<table border=\"1\" class=\"dataframe\">\n",
              "  <thead>\n",
              "    <tr style=\"text-align: right;\">\n",
              "      <th></th>\n",
              "      <th>Age</th>\n",
              "      <th>Sex</th>\n",
              "      <th>ChestPainType</th>\n",
              "      <th>RestingBP</th>\n",
              "      <th>Cholesterol</th>\n",
              "      <th>FastingBS</th>\n",
              "      <th>RestingECG</th>\n",
              "      <th>MaxHR</th>\n",
              "      <th>ExerciseAngina</th>\n",
              "      <th>Oldpeak</th>\n",
              "      <th>ST_Slope</th>\n",
              "      <th>HeartDisease</th>\n",
              "    </tr>\n",
              "  </thead>\n",
              "  <tbody>\n",
              "    <tr>\n",
              "      <th>0</th>\n",
              "      <td>40</td>\n",
              "      <td>M</td>\n",
              "      <td>ATA</td>\n",
              "      <td>140</td>\n",
              "      <td>289</td>\n",
              "      <td>0</td>\n",
              "      <td>Normal</td>\n",
              "      <td>172</td>\n",
              "      <td>N</td>\n",
              "      <td>0.0</td>\n",
              "      <td>Up</td>\n",
              "      <td>0</td>\n",
              "    </tr>\n",
              "    <tr>\n",
              "      <th>1</th>\n",
              "      <td>49</td>\n",
              "      <td>F</td>\n",
              "      <td>NAP</td>\n",
              "      <td>160</td>\n",
              "      <td>180</td>\n",
              "      <td>0</td>\n",
              "      <td>Normal</td>\n",
              "      <td>156</td>\n",
              "      <td>N</td>\n",
              "      <td>1.0</td>\n",
              "      <td>Flat</td>\n",
              "      <td>1</td>\n",
              "    </tr>\n",
              "    <tr>\n",
              "      <th>2</th>\n",
              "      <td>37</td>\n",
              "      <td>M</td>\n",
              "      <td>ATA</td>\n",
              "      <td>130</td>\n",
              "      <td>283</td>\n",
              "      <td>0</td>\n",
              "      <td>ST</td>\n",
              "      <td>98</td>\n",
              "      <td>N</td>\n",
              "      <td>0.0</td>\n",
              "      <td>Up</td>\n",
              "      <td>0</td>\n",
              "    </tr>\n",
              "    <tr>\n",
              "      <th>3</th>\n",
              "      <td>48</td>\n",
              "      <td>F</td>\n",
              "      <td>ASY</td>\n",
              "      <td>138</td>\n",
              "      <td>214</td>\n",
              "      <td>0</td>\n",
              "      <td>Normal</td>\n",
              "      <td>108</td>\n",
              "      <td>Y</td>\n",
              "      <td>1.5</td>\n",
              "      <td>Flat</td>\n",
              "      <td>1</td>\n",
              "    </tr>\n",
              "    <tr>\n",
              "      <th>4</th>\n",
              "      <td>54</td>\n",
              "      <td>M</td>\n",
              "      <td>NAP</td>\n",
              "      <td>150</td>\n",
              "      <td>195</td>\n",
              "      <td>0</td>\n",
              "      <td>Normal</td>\n",
              "      <td>122</td>\n",
              "      <td>N</td>\n",
              "      <td>0.0</td>\n",
              "      <td>Up</td>\n",
              "      <td>0</td>\n",
              "    </tr>\n",
              "    <tr>\n",
              "      <th>...</th>\n",
              "      <td>...</td>\n",
              "      <td>...</td>\n",
              "      <td>...</td>\n",
              "      <td>...</td>\n",
              "      <td>...</td>\n",
              "      <td>...</td>\n",
              "      <td>...</td>\n",
              "      <td>...</td>\n",
              "      <td>...</td>\n",
              "      <td>...</td>\n",
              "      <td>...</td>\n",
              "      <td>...</td>\n",
              "    </tr>\n",
              "    <tr>\n",
              "      <th>913</th>\n",
              "      <td>45</td>\n",
              "      <td>M</td>\n",
              "      <td>TA</td>\n",
              "      <td>110</td>\n",
              "      <td>264</td>\n",
              "      <td>0</td>\n",
              "      <td>Normal</td>\n",
              "      <td>132</td>\n",
              "      <td>N</td>\n",
              "      <td>1.2</td>\n",
              "      <td>Flat</td>\n",
              "      <td>1</td>\n",
              "    </tr>\n",
              "    <tr>\n",
              "      <th>914</th>\n",
              "      <td>68</td>\n",
              "      <td>M</td>\n",
              "      <td>ASY</td>\n",
              "      <td>144</td>\n",
              "      <td>193</td>\n",
              "      <td>1</td>\n",
              "      <td>Normal</td>\n",
              "      <td>141</td>\n",
              "      <td>N</td>\n",
              "      <td>3.4</td>\n",
              "      <td>Flat</td>\n",
              "      <td>1</td>\n",
              "    </tr>\n",
              "    <tr>\n",
              "      <th>915</th>\n",
              "      <td>57</td>\n",
              "      <td>M</td>\n",
              "      <td>ASY</td>\n",
              "      <td>130</td>\n",
              "      <td>131</td>\n",
              "      <td>0</td>\n",
              "      <td>Normal</td>\n",
              "      <td>115</td>\n",
              "      <td>Y</td>\n",
              "      <td>1.2</td>\n",
              "      <td>Flat</td>\n",
              "      <td>1</td>\n",
              "    </tr>\n",
              "    <tr>\n",
              "      <th>916</th>\n",
              "      <td>57</td>\n",
              "      <td>F</td>\n",
              "      <td>ATA</td>\n",
              "      <td>130</td>\n",
              "      <td>236</td>\n",
              "      <td>0</td>\n",
              "      <td>LVH</td>\n",
              "      <td>174</td>\n",
              "      <td>N</td>\n",
              "      <td>0.0</td>\n",
              "      <td>Flat</td>\n",
              "      <td>1</td>\n",
              "    </tr>\n",
              "    <tr>\n",
              "      <th>917</th>\n",
              "      <td>38</td>\n",
              "      <td>M</td>\n",
              "      <td>NAP</td>\n",
              "      <td>138</td>\n",
              "      <td>175</td>\n",
              "      <td>0</td>\n",
              "      <td>Normal</td>\n",
              "      <td>173</td>\n",
              "      <td>N</td>\n",
              "      <td>0.0</td>\n",
              "      <td>Up</td>\n",
              "      <td>0</td>\n",
              "    </tr>\n",
              "  </tbody>\n",
              "</table>\n",
              "<p>918 rows × 12 columns</p>\n",
              "</div>\n",
              "      <button class=\"colab-df-convert\" onclick=\"convertToInteractive('df-08ee3dc5-a44f-4ed1-aef4-df761091d1bc')\"\n",
              "              title=\"Convert this dataframe to an interactive table.\"\n",
              "              style=\"display:none;\">\n",
              "        \n",
              "  <svg xmlns=\"http://www.w3.org/2000/svg\" height=\"24px\"viewBox=\"0 0 24 24\"\n",
              "       width=\"24px\">\n",
              "    <path d=\"M0 0h24v24H0V0z\" fill=\"none\"/>\n",
              "    <path d=\"M18.56 5.44l.94 2.06.94-2.06 2.06-.94-2.06-.94-.94-2.06-.94 2.06-2.06.94zm-11 1L8.5 8.5l.94-2.06 2.06-.94-2.06-.94L8.5 2.5l-.94 2.06-2.06.94zm10 10l.94 2.06.94-2.06 2.06-.94-2.06-.94-.94-2.06-.94 2.06-2.06.94z\"/><path d=\"M17.41 7.96l-1.37-1.37c-.4-.4-.92-.59-1.43-.59-.52 0-1.04.2-1.43.59L10.3 9.45l-7.72 7.72c-.78.78-.78 2.05 0 2.83L4 21.41c.39.39.9.59 1.41.59.51 0 1.02-.2 1.41-.59l7.78-7.78 2.81-2.81c.8-.78.8-2.07 0-2.86zM5.41 20L4 18.59l7.72-7.72 1.47 1.35L5.41 20z\"/>\n",
              "  </svg>\n",
              "      </button>\n",
              "      \n",
              "  <style>\n",
              "    .colab-df-container {\n",
              "      display:flex;\n",
              "      flex-wrap:wrap;\n",
              "      gap: 12px;\n",
              "    }\n",
              "\n",
              "    .colab-df-convert {\n",
              "      background-color: #E8F0FE;\n",
              "      border: none;\n",
              "      border-radius: 50%;\n",
              "      cursor: pointer;\n",
              "      display: none;\n",
              "      fill: #1967D2;\n",
              "      height: 32px;\n",
              "      padding: 0 0 0 0;\n",
              "      width: 32px;\n",
              "    }\n",
              "\n",
              "    .colab-df-convert:hover {\n",
              "      background-color: #E2EBFA;\n",
              "      box-shadow: 0px 1px 2px rgba(60, 64, 67, 0.3), 0px 1px 3px 1px rgba(60, 64, 67, 0.15);\n",
              "      fill: #174EA6;\n",
              "    }\n",
              "\n",
              "    [theme=dark] .colab-df-convert {\n",
              "      background-color: #3B4455;\n",
              "      fill: #D2E3FC;\n",
              "    }\n",
              "\n",
              "    [theme=dark] .colab-df-convert:hover {\n",
              "      background-color: #434B5C;\n",
              "      box-shadow: 0px 1px 3px 1px rgba(0, 0, 0, 0.15);\n",
              "      filter: drop-shadow(0px 1px 2px rgba(0, 0, 0, 0.3));\n",
              "      fill: #FFFFFF;\n",
              "    }\n",
              "  </style>\n",
              "\n",
              "      <script>\n",
              "        const buttonEl =\n",
              "          document.querySelector('#df-08ee3dc5-a44f-4ed1-aef4-df761091d1bc button.colab-df-convert');\n",
              "        buttonEl.style.display =\n",
              "          google.colab.kernel.accessAllowed ? 'block' : 'none';\n",
              "\n",
              "        async function convertToInteractive(key) {\n",
              "          const element = document.querySelector('#df-08ee3dc5-a44f-4ed1-aef4-df761091d1bc');\n",
              "          const dataTable =\n",
              "            await google.colab.kernel.invokeFunction('convertToInteractive',\n",
              "                                                     [key], {});\n",
              "          if (!dataTable) return;\n",
              "\n",
              "          const docLinkHtml = 'Like what you see? Visit the ' +\n",
              "            '<a target=\"_blank\" href=https://colab.research.google.com/notebooks/data_table.ipynb>data table notebook</a>'\n",
              "            + ' to learn more about interactive tables.';\n",
              "          element.innerHTML = '';\n",
              "          dataTable['output_type'] = 'display_data';\n",
              "          await google.colab.output.renderOutput(dataTable, element);\n",
              "          const docLink = document.createElement('div');\n",
              "          docLink.innerHTML = docLinkHtml;\n",
              "          element.appendChild(docLink);\n",
              "        }\n",
              "      </script>\n",
              "    </div>\n",
              "  </div>\n",
              "  "
            ]
          },
          "metadata": {},
          "execution_count": 5
        }
      ],
      "source": [
        "ds = pd.read_csv('/content/heart-failure-prediction/heart.csv')\n",
        "ds"
      ]
    },
    {
      "cell_type": "markdown",
      "source": [
        "**Keterangan :**\n",
        "Berdasarkan output di atas diperoleh informasi sebagai berikut:\n",
        "* Terdapat 918 baris sampel data (_records_) yang terdapat dalam dataset\n",
        "* Terdapat 12 kolom variabel"
      ],
      "metadata": {
        "id": "zZZgfXTLt2wN"
      }
    },
    {
      "cell_type": "markdown",
      "metadata": {
        "id": "Q_rBDHYfNtr0"
      },
      "source": [
        "## **Exploratory Data Analysis**\n",
        "\n",
        "\n",
        "---\n",
        "\n"
      ]
    },
    {
      "cell_type": "markdown",
      "source": [
        "### **Deskripsi Variabel**\n",
        "\n",
        "1. Age : Usia pasien [years]\n",
        "2. Sex : Jenis kelamin pasien [M: Male, F: Female]\n",
        "3. ChestPainType : Tipe nyeri dada [TA: Typical Angina, ATA: Atypical Angina, NAP: Non-Anginal Pain, ASY: Asymptomatic]\n",
        "4. RestingBP : Tekanan darah istirahat [mm Hg]\n",
        "5. Cholesterol : Kolesterol serum [mm/dl]\n",
        "6. FastingBS : Gula darah puasa [1: jika FastingBS > 120 mg/dl, 0: sebaliknya]\n",
        "7. RestingECG : Hasil elektrokardiogram istirahat [Normal: Normal, ST: Memiliki kelainan gelombang ST-T (pembalikan gelombang T dan/atau elevasi atau depresi ST > 0.05 mV, LVH: Menunjukkan kemungkinan atau pasti hipertrofi ventrikel kiri menurut Estes' criteria]\n",
        "8. MaxHR : Detak jantung maksimum tercapai [Nilai numerik antara 60 dan 202]\n",
        "9. ExerciseAngina : Angina yang diinduksi oleh olahraga [Y: Ya, N: Tidak]\n",
        "10. Oldpeak : oldpeak = ST [Nilai numerik diukur dalam depresi]\n",
        "11. ST_Slope : Kemiringan puncak latihan segmen ST [Up: Upsloping, Flat: Flat, Down: Downsloping] \n",
        "12. HeartDisease : Keluaran [1: Penyakit jantung, 0: Normal]"
      ],
      "metadata": {
        "id": "nLsF-6yqyNb1"
      }
    },
    {
      "cell_type": "markdown",
      "source": [
        "Setelah memahami deskripsi variabel pada data, selanjutnya adalah mengecek informasi pada dataset."
      ],
      "metadata": {
        "id": "aykK2HsP8TKW"
      }
    },
    {
      "cell_type": "code",
      "execution_count": 6,
      "metadata": {
        "colab": {
          "base_uri": "https://localhost:8080/"
        },
        "id": "6_9zDwalIEk6",
        "outputId": "05f404e2-b0e3-4bed-d5b4-45c39f6ebb77"
      },
      "outputs": [
        {
          "output_type": "stream",
          "name": "stdout",
          "text": [
            "<class 'pandas.core.frame.DataFrame'>\n",
            "RangeIndex: 918 entries, 0 to 917\n",
            "Data columns (total 12 columns):\n",
            " #   Column          Non-Null Count  Dtype  \n",
            "---  ------          --------------  -----  \n",
            " 0   Age             918 non-null    int64  \n",
            " 1   Sex             918 non-null    object \n",
            " 2   ChestPainType   918 non-null    object \n",
            " 3   RestingBP       918 non-null    int64  \n",
            " 4   Cholesterol     918 non-null    int64  \n",
            " 5   FastingBS       918 non-null    int64  \n",
            " 6   RestingECG      918 non-null    object \n",
            " 7   MaxHR           918 non-null    int64  \n",
            " 8   ExerciseAngina  918 non-null    object \n",
            " 9   Oldpeak         918 non-null    float64\n",
            " 10  ST_Slope        918 non-null    object \n",
            " 11  HeartDisease    918 non-null    int64  \n",
            "dtypes: float64(1), int64(6), object(5)\n",
            "memory usage: 86.2+ KB\n"
          ]
        }
      ],
      "source": [
        "ds.info()"
      ]
    },
    {
      "cell_type": "markdown",
      "source": [
        "Berdasarkan output di atas dapat terlihat bahwa :\n",
        "* Terdapat 7 fitur numerik dan 5 fitur kategorik\n",
        "* 6 fitur numerik bertipe data int64 dan 1 fitur numerik bertipe data float64\n",
        "* Semua fitur kategorik bertipe data object\n",
        "* HeartDisease merupakan fitur target"
      ],
      "metadata": {
        "id": "yU5mS_Sb8jPd"
      }
    },
    {
      "cell_type": "markdown",
      "source": [
        "Langkah selanjutnya yakni mengecek deskripsi statistik data menggunakan fungsi describe()"
      ],
      "metadata": {
        "id": "Le933mUJ9FDJ"
      }
    },
    {
      "cell_type": "code",
      "source": [
        "ds.describe()"
      ],
      "metadata": {
        "colab": {
          "base_uri": "https://localhost:8080/",
          "height": 300
        },
        "id": "KwIs1NZfxyy4",
        "outputId": "52f1543d-f002-49f7-f100-a98f5733808f"
      },
      "execution_count": 7,
      "outputs": [
        {
          "output_type": "execute_result",
          "data": {
            "text/plain": [
              "              Age   RestingBP  Cholesterol   FastingBS       MaxHR  \\\n",
              "count  918.000000  918.000000   918.000000  918.000000  918.000000   \n",
              "mean    53.510893  132.396514   198.799564    0.233115  136.809368   \n",
              "std      9.432617   18.514154   109.384145    0.423046   25.460334   \n",
              "min     28.000000    0.000000     0.000000    0.000000   60.000000   \n",
              "25%     47.000000  120.000000   173.250000    0.000000  120.000000   \n",
              "50%     54.000000  130.000000   223.000000    0.000000  138.000000   \n",
              "75%     60.000000  140.000000   267.000000    0.000000  156.000000   \n",
              "max     77.000000  200.000000   603.000000    1.000000  202.000000   \n",
              "\n",
              "          Oldpeak  HeartDisease  \n",
              "count  918.000000    918.000000  \n",
              "mean     0.887364      0.553377  \n",
              "std      1.066570      0.497414  \n",
              "min     -2.600000      0.000000  \n",
              "25%      0.000000      0.000000  \n",
              "50%      0.600000      1.000000  \n",
              "75%      1.500000      1.000000  \n",
              "max      6.200000      1.000000  "
            ],
            "text/html": [
              "\n",
              "  <div id=\"df-382388dc-6232-43d8-81b0-112a21f35746\">\n",
              "    <div class=\"colab-df-container\">\n",
              "      <div>\n",
              "<style scoped>\n",
              "    .dataframe tbody tr th:only-of-type {\n",
              "        vertical-align: middle;\n",
              "    }\n",
              "\n",
              "    .dataframe tbody tr th {\n",
              "        vertical-align: top;\n",
              "    }\n",
              "\n",
              "    .dataframe thead th {\n",
              "        text-align: right;\n",
              "    }\n",
              "</style>\n",
              "<table border=\"1\" class=\"dataframe\">\n",
              "  <thead>\n",
              "    <tr style=\"text-align: right;\">\n",
              "      <th></th>\n",
              "      <th>Age</th>\n",
              "      <th>RestingBP</th>\n",
              "      <th>Cholesterol</th>\n",
              "      <th>FastingBS</th>\n",
              "      <th>MaxHR</th>\n",
              "      <th>Oldpeak</th>\n",
              "      <th>HeartDisease</th>\n",
              "    </tr>\n",
              "  </thead>\n",
              "  <tbody>\n",
              "    <tr>\n",
              "      <th>count</th>\n",
              "      <td>918.000000</td>\n",
              "      <td>918.000000</td>\n",
              "      <td>918.000000</td>\n",
              "      <td>918.000000</td>\n",
              "      <td>918.000000</td>\n",
              "      <td>918.000000</td>\n",
              "      <td>918.000000</td>\n",
              "    </tr>\n",
              "    <tr>\n",
              "      <th>mean</th>\n",
              "      <td>53.510893</td>\n",
              "      <td>132.396514</td>\n",
              "      <td>198.799564</td>\n",
              "      <td>0.233115</td>\n",
              "      <td>136.809368</td>\n",
              "      <td>0.887364</td>\n",
              "      <td>0.553377</td>\n",
              "    </tr>\n",
              "    <tr>\n",
              "      <th>std</th>\n",
              "      <td>9.432617</td>\n",
              "      <td>18.514154</td>\n",
              "      <td>109.384145</td>\n",
              "      <td>0.423046</td>\n",
              "      <td>25.460334</td>\n",
              "      <td>1.066570</td>\n",
              "      <td>0.497414</td>\n",
              "    </tr>\n",
              "    <tr>\n",
              "      <th>min</th>\n",
              "      <td>28.000000</td>\n",
              "      <td>0.000000</td>\n",
              "      <td>0.000000</td>\n",
              "      <td>0.000000</td>\n",
              "      <td>60.000000</td>\n",
              "      <td>-2.600000</td>\n",
              "      <td>0.000000</td>\n",
              "    </tr>\n",
              "    <tr>\n",
              "      <th>25%</th>\n",
              "      <td>47.000000</td>\n",
              "      <td>120.000000</td>\n",
              "      <td>173.250000</td>\n",
              "      <td>0.000000</td>\n",
              "      <td>120.000000</td>\n",
              "      <td>0.000000</td>\n",
              "      <td>0.000000</td>\n",
              "    </tr>\n",
              "    <tr>\n",
              "      <th>50%</th>\n",
              "      <td>54.000000</td>\n",
              "      <td>130.000000</td>\n",
              "      <td>223.000000</td>\n",
              "      <td>0.000000</td>\n",
              "      <td>138.000000</td>\n",
              "      <td>0.600000</td>\n",
              "      <td>1.000000</td>\n",
              "    </tr>\n",
              "    <tr>\n",
              "      <th>75%</th>\n",
              "      <td>60.000000</td>\n",
              "      <td>140.000000</td>\n",
              "      <td>267.000000</td>\n",
              "      <td>0.000000</td>\n",
              "      <td>156.000000</td>\n",
              "      <td>1.500000</td>\n",
              "      <td>1.000000</td>\n",
              "    </tr>\n",
              "    <tr>\n",
              "      <th>max</th>\n",
              "      <td>77.000000</td>\n",
              "      <td>200.000000</td>\n",
              "      <td>603.000000</td>\n",
              "      <td>1.000000</td>\n",
              "      <td>202.000000</td>\n",
              "      <td>6.200000</td>\n",
              "      <td>1.000000</td>\n",
              "    </tr>\n",
              "  </tbody>\n",
              "</table>\n",
              "</div>\n",
              "      <button class=\"colab-df-convert\" onclick=\"convertToInteractive('df-382388dc-6232-43d8-81b0-112a21f35746')\"\n",
              "              title=\"Convert this dataframe to an interactive table.\"\n",
              "              style=\"display:none;\">\n",
              "        \n",
              "  <svg xmlns=\"http://www.w3.org/2000/svg\" height=\"24px\"viewBox=\"0 0 24 24\"\n",
              "       width=\"24px\">\n",
              "    <path d=\"M0 0h24v24H0V0z\" fill=\"none\"/>\n",
              "    <path d=\"M18.56 5.44l.94 2.06.94-2.06 2.06-.94-2.06-.94-.94-2.06-.94 2.06-2.06.94zm-11 1L8.5 8.5l.94-2.06 2.06-.94-2.06-.94L8.5 2.5l-.94 2.06-2.06.94zm10 10l.94 2.06.94-2.06 2.06-.94-2.06-.94-.94-2.06-.94 2.06-2.06.94z\"/><path d=\"M17.41 7.96l-1.37-1.37c-.4-.4-.92-.59-1.43-.59-.52 0-1.04.2-1.43.59L10.3 9.45l-7.72 7.72c-.78.78-.78 2.05 0 2.83L4 21.41c.39.39.9.59 1.41.59.51 0 1.02-.2 1.41-.59l7.78-7.78 2.81-2.81c.8-.78.8-2.07 0-2.86zM5.41 20L4 18.59l7.72-7.72 1.47 1.35L5.41 20z\"/>\n",
              "  </svg>\n",
              "      </button>\n",
              "      \n",
              "  <style>\n",
              "    .colab-df-container {\n",
              "      display:flex;\n",
              "      flex-wrap:wrap;\n",
              "      gap: 12px;\n",
              "    }\n",
              "\n",
              "    .colab-df-convert {\n",
              "      background-color: #E8F0FE;\n",
              "      border: none;\n",
              "      border-radius: 50%;\n",
              "      cursor: pointer;\n",
              "      display: none;\n",
              "      fill: #1967D2;\n",
              "      height: 32px;\n",
              "      padding: 0 0 0 0;\n",
              "      width: 32px;\n",
              "    }\n",
              "\n",
              "    .colab-df-convert:hover {\n",
              "      background-color: #E2EBFA;\n",
              "      box-shadow: 0px 1px 2px rgba(60, 64, 67, 0.3), 0px 1px 3px 1px rgba(60, 64, 67, 0.15);\n",
              "      fill: #174EA6;\n",
              "    }\n",
              "\n",
              "    [theme=dark] .colab-df-convert {\n",
              "      background-color: #3B4455;\n",
              "      fill: #D2E3FC;\n",
              "    }\n",
              "\n",
              "    [theme=dark] .colab-df-convert:hover {\n",
              "      background-color: #434B5C;\n",
              "      box-shadow: 0px 1px 3px 1px rgba(0, 0, 0, 0.15);\n",
              "      filter: drop-shadow(0px 1px 2px rgba(0, 0, 0, 0.3));\n",
              "      fill: #FFFFFF;\n",
              "    }\n",
              "  </style>\n",
              "\n",
              "      <script>\n",
              "        const buttonEl =\n",
              "          document.querySelector('#df-382388dc-6232-43d8-81b0-112a21f35746 button.colab-df-convert');\n",
              "        buttonEl.style.display =\n",
              "          google.colab.kernel.accessAllowed ? 'block' : 'none';\n",
              "\n",
              "        async function convertToInteractive(key) {\n",
              "          const element = document.querySelector('#df-382388dc-6232-43d8-81b0-112a21f35746');\n",
              "          const dataTable =\n",
              "            await google.colab.kernel.invokeFunction('convertToInteractive',\n",
              "                                                     [key], {});\n",
              "          if (!dataTable) return;\n",
              "\n",
              "          const docLinkHtml = 'Like what you see? Visit the ' +\n",
              "            '<a target=\"_blank\" href=https://colab.research.google.com/notebooks/data_table.ipynb>data table notebook</a>'\n",
              "            + ' to learn more about interactive tables.';\n",
              "          element.innerHTML = '';\n",
              "          dataTable['output_type'] = 'display_data';\n",
              "          await google.colab.output.renderOutput(dataTable, element);\n",
              "          const docLink = document.createElement('div');\n",
              "          docLink.innerHTML = docLinkHtml;\n",
              "          element.appendChild(docLink);\n",
              "        }\n",
              "      </script>\n",
              "    </div>\n",
              "  </div>\n",
              "  "
            ]
          },
          "metadata": {},
          "execution_count": 7
        }
      ]
    },
    {
      "cell_type": "markdown",
      "source": [
        "Berikut informasi-informasi yang ditunjukkan oleh fungsi describe(), antara lain :\n",
        "* Count : jumlah sample pada data.\n",
        "* Mean : nilai rata-rata\n",
        "* Std : standar deviasi\n",
        "* Min : nilai minimum setiap kolom\n",
        "* 25% : kuartil pertama. Kuartil adalah nilai yang menandai batas interval dalam empat bagian sebaran yang sama.\n",
        "* 50% : kuartil kedua, atau biasa juga disebut median (nilai tengah).\n",
        "* 75% : kuartil ketiga.\n",
        "* Max : nilai maksimum.\n"
      ],
      "metadata": {
        "id": "pSoHq2H69VTP"
      }
    },
    {
      "cell_type": "markdown",
      "metadata": {
        "id": "3oijqRoDK1sR"
      },
      "source": [
        "### **Mengecek dan Menangani Missing Value**"
      ]
    },
    {
      "cell_type": "markdown",
      "source": [
        "Mengecek _missing value_ menggunakan fungsi isnull() pada semua kolom. "
      ],
      "metadata": {
        "id": "nRZ2KNw1-Esd"
      }
    },
    {
      "cell_type": "code",
      "execution_count": 8,
      "metadata": {
        "colab": {
          "base_uri": "https://localhost:8080/"
        },
        "id": "o8JuUwVwakXV",
        "outputId": "e7d52993-54b3-4fea-c732-96c3e9bf7e45"
      },
      "outputs": [
        {
          "output_type": "execute_result",
          "data": {
            "text/plain": [
              "Age               0\n",
              "Sex               0\n",
              "ChestPainType     0\n",
              "RestingBP         0\n",
              "Cholesterol       0\n",
              "FastingBS         0\n",
              "RestingECG        0\n",
              "MaxHR             0\n",
              "ExerciseAngina    0\n",
              "Oldpeak           0\n",
              "ST_Slope          0\n",
              "HeartDisease      0\n",
              "dtype: int64"
            ]
          },
          "metadata": {},
          "execution_count": 8
        }
      ],
      "source": [
        "ds.isnull().sum()"
      ]
    },
    {
      "cell_type": "markdown",
      "source": [
        "Dari output di atas dapat terlihat bahwa seluruh fitur pada dataset tidak memiliki _missing value_ (nilai NULL maupun NAN) sehingga dapat lanjut ke tahap selanjutnya."
      ],
      "metadata": {
        "id": "xK9lfhfq-Mlc"
      }
    },
    {
      "cell_type": "markdown",
      "source": [
        "### **Mendeteksi dan Menangani Outliers**"
      ],
      "metadata": {
        "id": "gzLjpXskzYIX"
      }
    },
    {
      "cell_type": "markdown",
      "source": [
        "Pendeteksian outliers menggunakan teknik visualisasi data dengan boxplot. Berikut visualisasi data untuk fitur numerik."
      ],
      "metadata": {
        "id": "a6qjUSwbzdXc"
      }
    },
    {
      "cell_type": "code",
      "source": [
        "# 1. Age\n",
        "sns.boxplot(x=ds['Age'])"
      ],
      "metadata": {
        "colab": {
          "base_uri": "https://localhost:8080/",
          "height": 296
        },
        "id": "c9QjTh8uzbvd",
        "outputId": "307b068e-2d5d-41d4-8a7f-22fa2f2f6607"
      },
      "execution_count": 9,
      "outputs": [
        {
          "output_type": "execute_result",
          "data": {
            "text/plain": [
              "<matplotlib.axes._subplots.AxesSubplot at 0x7f369f1043d0>"
            ]
          },
          "metadata": {},
          "execution_count": 9
        },
        {
          "output_type": "display_data",
          "data": {
            "text/plain": [
              "<Figure size 432x288 with 1 Axes>"
            ],
            "image/png": "[encoded data removed]"
          },
          "metadata": {
            "needs_background": "light"
          }
        }
      ]
    },
    {
      "cell_type": "code",
      "source": [
        "# 2. Resting Blood Pressure\n",
        "sns.boxplot(x=ds['RestingBP'])"
      ],
      "metadata": {
        "colab": {
          "base_uri": "https://localhost:8080/",
          "height": 296
        },
        "id": "a4M3qiHG0Yvw",
        "outputId": "6c197190-df19-4286-d613-ad2858333529"
      },
      "execution_count": 10,
      "outputs": [
        {
          "output_type": "execute_result",
          "data": {
            "text/plain": [
              "<matplotlib.axes._subplots.AxesSubplot at 0x7f369eb91350>"
            ]
          },
          "metadata": {},
          "execution_count": 10
        },
        {
          "output_type": "display_data",
          "data": {
            "text/plain": [
              "<Figure size 432x288 with 1 Axes>"
            ],
            "image/png": "[encoded data removed]"
          },
          "metadata": {
            "needs_background": "light"
          }
        }
      ]
    },
    {
      "cell_type": "code",
      "source": [
        "# 3. Cholesterol\n",
        "sns.boxplot(x=ds['Cholesterol'])"
      ],
      "metadata": {
        "colab": {
          "base_uri": "https://localhost:8080/",
          "height": 296
        },
        "id": "CiPfhBdlzsuP",
        "outputId": "2b1fcf15-17d3-4419-e372-14966b42769d"
      },
      "execution_count": 11,
      "outputs": [
        {
          "output_type": "execute_result",
          "data": {
            "text/plain": [
              "<matplotlib.axes._subplots.AxesSubplot at 0x7f369eb810d0>"
            ]
          },
          "metadata": {},
          "execution_count": 11
        },
        {
          "output_type": "display_data",
          "data": {
            "text/plain": [
              "<Figure size 432x288 with 1 Axes>"
            ],
            "image/png": "[encoded data removed]"
          },
          "metadata": {
            "needs_background": "light"
          }
        }
      ]
    },
    {
      "cell_type": "code",
      "source": [
        "# 4. Maximum Heart Rate\n",
        "sns.boxplot(x=ds['MaxHR'])"
      ],
      "metadata": {
        "colab": {
          "base_uri": "https://localhost:8080/",
          "height": 296
        },
        "id": "Q3swpkoV0ui9",
        "outputId": "95d72176-8d5f-4d68-aa94-5dba5b58ed87"
      },
      "execution_count": 12,
      "outputs": [
        {
          "output_type": "execute_result",
          "data": {
            "text/plain": [
              "<matplotlib.axes._subplots.AxesSubplot at 0x7f369eb02f50>"
            ]
          },
          "metadata": {},
          "execution_count": 12
        },
        {
          "output_type": "display_data",
          "data": {
            "text/plain": [
              "<Figure size 432x288 with 1 Axes>"
            ],
            "image/png": "[encoded data removed]"
          },
          "metadata": {
            "needs_background": "light"
          }
        }
      ]
    },
    {
      "cell_type": "code",
      "source": [
        "# 5. Old Peak\n",
        "sns.boxplot(x=ds['Oldpeak'])"
      ],
      "metadata": {
        "colab": {
          "base_uri": "https://localhost:8080/",
          "height": 296
        },
        "id": "emio--qO0KgK",
        "outputId": "16cce46b-e2ea-4162-994e-f25180ba258e"
      },
      "execution_count": 13,
      "outputs": [
        {
          "output_type": "execute_result",
          "data": {
            "text/plain": [
              "<matplotlib.axes._subplots.AxesSubplot at 0x7f369eafe910>"
            ]
          },
          "metadata": {},
          "execution_count": 13
        },
        {
          "output_type": "display_data",
          "data": {
            "text/plain": [
              "<Figure size 432x288 with 1 Axes>"
            ],
            "image/png": "[encoded data removed]"
          },
          "metadata": {
            "needs_background": "light"
          }
        }
      ]
    },
    {
      "cell_type": "markdown",
      "source": [
        "Dari output di atas dapat dilihat bahwa terdapat outliers pada fitur numerik `RestingBP`, `Cholesterol`, `MaxHR`, dan `Oldpeak`."
      ],
      "metadata": {
        "id": "Tl0hCbUG_i-b"
      }
    },
    {
      "cell_type": "markdown",
      "source": [
        "Menangani Outliers dengan metode IQR (Inter Quartile Range)."
      ],
      "metadata": {
        "id": "BinZnbbO1KO3"
      }
    },
    {
      "cell_type": "code",
      "source": [
        "# membuat batas atas dan batas bawah\n",
        "Q1 = ds.quantile(0.25)\n",
        "Q3 = ds.quantile(0.75)\n",
        "IQR = Q3-Q1\n",
        "\n",
        "# cek ukuran dataset sebelum kita drop outliers\n",
        "print(f\"Ukuran dataset awal : {ds.shape}\")\n",
        "\n",
        "# penanganan outliers\n",
        "ds = ds[~((ds<(Q1-1.5*IQR))|(ds>(Q3+1.5*IQR))).any(axis=1)]\n",
        " \n",
        "# cek ukuran dataset setelah kita drop outliers\n",
        "print(f\"Ukuran dataset setelah drop outliers : {ds.shape}\")"
      ],
      "metadata": {
        "colab": {
          "base_uri": "https://localhost:8080/"
        },
        "id": "EtGaokHq1OBl",
        "outputId": "5d5a4809-262e-49c8-cfa3-5c7b4fece141"
      },
      "execution_count": 14,
      "outputs": [
        {
          "output_type": "stream",
          "name": "stdout",
          "text": [
            "Ukuran dataset awal : (918, 12)\n",
            "Ukuran dataset setelah drop outliers : (588, 12)\n"
          ]
        },
        {
          "output_type": "stream",
          "name": "stderr",
          "text": [
            "/usr/local/lib/python3.7/dist-packages/ipykernel_launcher.py:10: FutureWarning: Automatic reindexing on DataFrame vs Series comparisons is deprecated and will raise ValueError in a future version.  Do `left, right = left.align(right, axis=1, copy=False)` before e.g. `left == right`\n",
            "  # Remove the CWD from sys.path while we load stuff.\n"
          ]
        }
      ]
    },
    {
      "cell_type": "markdown",
      "source": [
        "Dari output di atas dapat terlihat bahwa sebanyak (918 - 588) = 330 baris sampel outliers telah dibersihkan."
      ],
      "metadata": {
        "id": "PNkzQrbbCk8z"
      }
    },
    {
      "cell_type": "markdown",
      "metadata": {
        "id": "aJC3NO7ufha9"
      },
      "source": [
        "## **Univariate Analysis**"
      ]
    },
    {
      "cell_type": "markdown",
      "source": [
        "Pada tahap ini akan dilakukan analisis data dengan Univariate Analysis pada semua fitur, baik fitur kategorik maupun fitur numerik."
      ],
      "metadata": {
        "id": "ammZiJ-wDopo"
      }
    },
    {
      "cell_type": "code",
      "source": [
        "# membagi fitur pd dataset menjadi 2 bagian\n",
        "numerical_features = ['Age', 'RestingBP', 'Cholesterol', 'FastingBS', 'MaxHR', 'Oldpeak', 'HeartDisease']\n",
        "categorical_features = ['Sex', 'ChestPainType', 'RestingECG', 'ExerciseAngina', 'ST_Slope']"
      ],
      "metadata": {
        "id": "kJN14MOq1i_f"
      },
      "execution_count": 15,
      "outputs": []
    },
    {
      "cell_type": "markdown",
      "source": [
        "**Analisis Categorical Features**"
      ],
      "metadata": {
        "id": "cyLYLmL52iEm"
      }
    },
    {
      "cell_type": "markdown",
      "source": [
        "Berikut adalah visualisasi distribusi data untuk Categorical Features dalam bentuk bar."
      ],
      "metadata": {
        "id": "Q1mwveUDhBAV"
      }
    },
    {
      "cell_type": "code",
      "source": [
        "# Fitur Sex\n",
        "feature = categorical_features[0]\n",
        "count = ds[feature].value_counts()\n",
        "percent = 100*ds[feature].value_counts(normalize=True)\n",
        "df = pd.DataFrame({'jumlah sampel':count, 'persentase':percent.round(1)})\n",
        "print(df)\n",
        "count.plot(kind='bar', title=feature);"
      ],
      "metadata": {
        "colab": {
          "base_uri": "https://localhost:8080/",
          "height": 332
        },
        "id": "6ZCWK6Za2mgF",
        "outputId": "214c0d05-5bac-4285-b13e-d1e16429fc03"
      },
      "execution_count": 16,
      "outputs": [
        {
          "output_type": "stream",
          "name": "stdout",
          "text": [
            "   jumlah sampel  persentase\n",
            "M            436        74.1\n",
            "F            152        25.9\n"
          ]
        },
        {
          "output_type": "display_data",
          "data": {
            "text/plain": [
              "<Figure size 432x288 with 1 Axes>"
            ],
            "image/png": "[encoded data removed]"
          },
          "metadata": {
            "needs_background": "light"
          }
        }
      ]
    },
    {
      "cell_type": "code",
      "source": [
        "# Fitur Chest Pain Type\n",
        "feature = categorical_features[1]\n",
        "count = ds[feature].value_counts()\n",
        "percent = 100*ds[feature].value_counts(normalize=True)\n",
        "df = pd.DataFrame({'jumlah sampel':count, 'persentase':percent.round(1)})\n",
        "print(df)\n",
        "count.plot(kind='bar', title=feature);"
      ],
      "metadata": {
        "colab": {
          "base_uri": "https://localhost:8080/",
          "height": 379
        },
        "id": "f7faXZX13Ep9",
        "outputId": "fe1b2dfc-9ffe-43fc-a25a-e5295a9283c6"
      },
      "execution_count": 17,
      "outputs": [
        {
          "output_type": "stream",
          "name": "stdout",
          "text": [
            "     jumlah sampel  persentase\n",
            "ASY            278        47.3\n",
            "ATA            144        24.5\n",
            "NAP            137        23.3\n",
            "TA              29         4.9\n"
          ]
        },
        {
          "output_type": "display_data",
          "data": {
            "text/plain": [
              "<Figure size 432x288 with 1 Axes>"
            ],
            "image/png": "[encoded data removed]"
          },
          "metadata": {
            "needs_background": "light"
          }
        }
      ]
    },
    {
      "cell_type": "code",
      "source": [
        "# Fitur Resting Electro Cardio Gram\n",
        "feature = categorical_features[2]\n",
        "count = ds[feature].value_counts()\n",
        "percent = 100*ds[feature].value_counts(normalize=True)\n",
        "df = pd.DataFrame({'jumlah sampel':count, 'persentase':percent.round(1)})\n",
        "print(df)\n",
        "count.plot(kind='bar', title=feature);"
      ],
      "metadata": {
        "colab": {
          "base_uri": "https://localhost:8080/",
          "height": 376
        },
        "id": "Vlh6K49F3RFU",
        "outputId": "8194591d-d389-433e-f088-179cdb55ee60"
      },
      "execution_count": 18,
      "outputs": [
        {
          "output_type": "stream",
          "name": "stdout",
          "text": [
            "        jumlah sampel  persentase\n",
            "Normal            375        63.8\n",
            "LVH               131        22.3\n",
            "ST                 82        13.9\n"
          ]
        },
        {
          "output_type": "display_data",
          "data": {
            "text/plain": [
              "<Figure size 432x288 with 1 Axes>"
            ],
            "image/png": "[encoded data removed]"
          },
          "metadata": {
            "needs_background": "light"
          }
        }
      ]
    },
    {
      "cell_type": "code",
      "source": [
        "# Fitur Exercise Angina\n",
        "feature = categorical_features[3]\n",
        "count = ds[feature].value_counts()\n",
        "percent = 100*ds[feature].value_counts(normalize=True)\n",
        "df = pd.DataFrame({'jumlah sampel':count, 'persentase':percent.round(1)})\n",
        "print(df)\n",
        "count.plot(kind='bar', title=feature);"
      ],
      "metadata": {
        "colab": {
          "base_uri": "https://localhost:8080/",
          "height": 331
        },
        "id": "aUxmAvas3hAx",
        "outputId": "1d2b35e4-fc54-479c-c2c1-e436059fc3ea"
      },
      "execution_count": 19,
      "outputs": [
        {
          "output_type": "stream",
          "name": "stdout",
          "text": [
            "   jumlah sampel  persentase\n",
            "N            381        64.8\n",
            "Y            207        35.2\n"
          ]
        },
        {
          "output_type": "display_data",
          "data": {
            "text/plain": [
              "<Figure size 432x288 with 1 Axes>"
            ],
            "image/png": "[encoded data removed]"
          },
          "metadata": {
            "needs_background": "light"
          }
        }
      ]
    },
    {
      "cell_type": "code",
      "source": [
        "# Fitur ST Slope\n",
        "feature = categorical_features[4]\n",
        "count = ds[feature].value_counts()\n",
        "percent = 100*ds[feature].value_counts(normalize=True)\n",
        "df = pd.DataFrame({'jumlah sampel':count, 'persentase':percent.round(1)})\n",
        "print(df)\n",
        "count.plot(kind='bar', title=feature);"
      ],
      "metadata": {
        "colab": {
          "base_uri": "https://localhost:8080/",
          "height": 369
        },
        "id": "qD8JNF1D3zXr",
        "outputId": "0390d2ff-c75d-4b72-c2b9-0bfda648a564"
      },
      "execution_count": 20,
      "outputs": [
        {
          "output_type": "stream",
          "name": "stdout",
          "text": [
            "      jumlah sampel  persentase\n",
            "Up              302        51.4\n",
            "Flat            263        44.7\n",
            "Down             23         3.9\n"
          ]
        },
        {
          "output_type": "display_data",
          "data": {
            "text/plain": [
              "<Figure size 432x288 with 1 Axes>"
            ],
            "image/png": "[encoded data removed]"
          },
          "metadata": {
            "needs_background": "light"
          }
        }
      ]
    },
    {
      "cell_type": "markdown",
      "source": [
        "\n",
        "\n",
        "---\n",
        "\n",
        "**Analisis Numerical Features**"
      ],
      "metadata": {
        "id": "XSeiRB1u3_3a"
      }
    },
    {
      "cell_type": "markdown",
      "source": [
        "Kemudian untuk melihat distribusi data pada tiap fitur numerik akan digunakan visualisasi dengan histogram sebagai berikut:"
      ],
      "metadata": {
        "id": "_oFHRZiqhKmn"
      }
    },
    {
      "cell_type": "code",
      "execution_count": 21,
      "metadata": {
        "colab": {
          "base_uri": "https://localhost:8080/",
          "height": 879
        },
        "id": "7UmYtPkufj2L",
        "outputId": "c881e0df-8992-46fc-ff7e-1cae0d6e1b66"
      },
      "outputs": [
        {
          "output_type": "display_data",
          "data": {
            "text/plain": [
              "<Figure size 1440x1080 with 9 Axes>"
            ],
            "image/png": "[encoded data removed]"
          },
          "metadata": {
            "needs_background": "light"
          }
        }
      ],
      "source": [
        "# menampilkan histogram masing2 fitur numerik\n",
        "ds.hist(bins=50, figsize=(20,15))\n",
        "plt.show()"
      ]
    },
    {
      "cell_type": "markdown",
      "metadata": {
        "id": "arwj2OKOf3Q2"
      },
      "source": [
        "## **Multivariate Analysis**"
      ]
    },
    {
      "cell_type": "markdown",
      "source": [
        "Multivariate Analysis menunjukkan hubungan antara dua atau lebih variabel pada data. Selanjutnya akan dilakukan proses analisa data dengan teknik Multivariate Analysis baik untuk fitur numerikal maupun fitur kategorikal. "
      ],
      "metadata": {
        "id": "jiGFpktgFXT_"
      }
    },
    {
      "cell_type": "markdown",
      "source": [
        "\n",
        "**Analisis Categorical Features**"
      ],
      "metadata": {
        "id": "fyZaWyn14i48"
      }
    },
    {
      "cell_type": "markdown",
      "source": [
        "* Pada tahap ini akan dilakukan pengecekan rata-rata probabilitas Heart Disease terhadap masing-masing fitur untuk mengetahui pengaruh fitur kategori terhadap Heart Disease."
      ],
      "metadata": {
        "id": "jtBsIY1N4n_u"
      }
    },
    {
      "cell_type": "code",
      "source": [
        "cat_features = ds.select_dtypes(include='object').columns.to_list()\n",
        " \n",
        "for col in cat_features:\n",
        "  sns.catplot(x=col, y=\"HeartDisease\", kind=\"bar\", dodge=False, height = 4, aspect = 3,  data=ds, palette=\"Set3\")\n",
        "  plt.title(\"Rata-rata 'Heart Disease' Relatif terhadap - {}\".format(col))"
      ],
      "metadata": {
        "colab": {
          "base_uri": "https://localhost:8080/",
          "height": 1000
        },
        "id": "h4YCydnW41wA",
        "outputId": "97f9c880-80ab-4ffa-c09d-4d97ba0fb38c"
      },
      "execution_count": 22,
      "outputs": [
        {
          "output_type": "display_data",
          "data": {
            "text/plain": [
              "<Figure size 864x288 with 1 Axes>"
            ],
            "image/png": "[encoded data removed]"
          },
          "metadata": {
            "needs_background": "light"
          }
        },
        {
          "output_type": "display_data",
          "data": {
            "text/plain": [
              "<Figure size 864x288 with 1 Axes>"
            ],
            "image/png": "[encoded data removed]"
          },
          "metadata": {
            "needs_background": "light"
          }
        },
        {
          "output_type": "display_data",
          "data": {
            "text/plain": [
              "<Figure size 864x288 with 1 Axes>"
            ],
            "image/png": "[encoded data removed]"
          },
          "metadata": {
            "needs_background": "light"
          }
        },
        {
          "output_type": "display_data",
          "data": {
            "text/plain": [
              "<Figure size 864x288 with 1 Axes>"
            ],
            "image/png": "[encoded data removed]"
          },
          "metadata": {
            "needs_background": "light"
          }
        },
        {
          "output_type": "display_data",
          "data": {
            "text/plain": [
              "<Figure size 864x288 with 1 Axes>"
            ],
            "image/png": "[encoded data removed]"
          },
          "metadata": {
            "needs_background": "light"
          }
        }
      ]
    },
    {
      "cell_type": "markdown",
      "source": [
        "Dengan mengamati rata-rata Heart Disease relatif terhadap fitur kategori di atas, maka diperoleh insight sebagai berikut:\n",
        "\n",
        "- Pada fitur `Sex`, rata-rata Heart Disease cenderung lebih tinggi untuk Male dibandingkan dengan Female.\n",
        "\n",
        "- Pada fitur `ChestPainType`, dapat terlihat bahwa tipe nyeri dada ASY memiliki nilai tinggi terhadap rata-rata relatif Heart Disease.\n",
        "\n",
        "- Pada fitur `RestingECG`, rata-rata Heart Disease cenderung mirip dan tidak terlalu berbeda. Hal ini dapat berarti bahwa fitur 'RestingECG' memiliki pengaruh yang rendah terhadap Heart Disease. \n",
        "\n",
        "- Pada fitur `ExerciseAngina`, rata-rata Heart Disease cenderung lebih tinggi pada label 'Y'. \n",
        "\n",
        "- Pada fitur `ST_Slope`, rata-rata Heart Disease cenderung rendah untuk label 'Up' dan tinggi untuk label 'Down'. Hal ini dapat berarti bahwa fitur 'ST_Slope' memiliki pengaruh rendah terhadap Heart Disease.\n",
        "\n",
        "**Kesimpulan**, beberapa fitur kategori memiliki pengaruh rendah dan beberapa tidak berpengaruh terhadap Heart Disease."
      ],
      "metadata": {
        "id": "RnJDWuDsGDc3"
      }
    },
    {
      "cell_type": "markdown",
      "source": [
        " \n",
        "\n",
        "---\n",
        "\n",
        "\n",
        " **Analisis Numerical Features**"
      ],
      "metadata": {
        "id": "YjhtO0eQ5O89"
      }
    },
    {
      "cell_type": "markdown",
      "metadata": {
        "id": "FERf5AQtgG6O"
      },
      "source": [
        "* Kemudian untuk mengamati hubungan antara fitur numerik, akan digunakan fungsi `pairplot()`, dengan output sebagai berikut: "
      ]
    },
    {
      "cell_type": "code",
      "execution_count": 23,
      "metadata": {
        "colab": {
          "base_uri": "https://localhost:8080/",
          "height": 1000
        },
        "id": "T_PMRiXZRxXF",
        "outputId": "d92a3c7a-7b29-4e41-cc2b-bc2c4145884c"
      },
      "outputs": [
        {
          "output_type": "execute_result",
          "data": {
            "text/plain": [
              "<seaborn.axisgrid.PairGrid at 0x7f369e903690>"
            ]
          },
          "metadata": {},
          "execution_count": 23
        },
        {
          "output_type": "display_data",
          "data": {
            "text/plain": [
              "<Figure size 1260x1260 with 56 Axes>"
            ],
            "image/png": "[encoded data removed]"
          },
          "metadata": {}
        }
      ],
      "source": [
        "# Mengamati hubungan antar fitur numerik dengan fungsi pairplot()\n",
        "sns.set(style=\"ticks\", color_codes=True)\n",
        "sns.pairplot(ds,\n",
        "             kind=\"reg\",\n",
        "             markers=\"+\",\n",
        "             diag_kind='kde',\n",
        "             plot_kws={'line_kws': {'color':'red'},\n",
        "                       'scatter_kws': {'alpha': 0.5}})"
      ]
    },
    {
      "cell_type": "markdown",
      "source": [
        "Berdasarkan pengamatan hasil visualisasi pairplot di atas dapat terlihat pola sebaran data pada fitur numerik. Pada pola sebaran tersebut terlihat bahwa fitur `MaxHR` memiliki korelasi negatif/berkebalikan dengan fitur `HeartDisease` (target). Sedangkan fitur `Age`, `RestingBP`, `Cholesterol`, `Oldpeak` memiliki korelasi positif dengan fitur `HeartDisease`."
      ],
      "metadata": {
        "id": "QcdKi8IDHB-Q"
      }
    },
    {
      "cell_type": "markdown",
      "source": [
        "* Selanjutnya untuk mengevaluasi skor korelasi antara fitur numerik dengan fitur target akan digunakan fungsi corr() seperti berikut."
      ],
      "metadata": {
        "id": "jEYFyKa1Inf1"
      }
    },
    {
      "cell_type": "code",
      "execution_count": 24,
      "metadata": {
        "colab": {
          "base_uri": "https://localhost:8080/",
          "height": 523
        },
        "id": "FP1ZlDwPSoFc",
        "outputId": "ba02c8b5-3835-4a3c-ebcc-6e26290e7315"
      },
      "outputs": [
        {
          "output_type": "execute_result",
          "data": {
            "text/plain": [
              "Text(0.5, 1.0, 'Correlation Matrix untuk Fitur Numerik ')"
            ]
          },
          "metadata": {},
          "execution_count": 24
        },
        {
          "output_type": "display_data",
          "data": {
            "text/plain": [
              "<Figure size 720x576 with 2 Axes>"
            ],
            "image/png": "[encoded data removed]"
          },
          "metadata": {}
        }
      ],
      "source": [
        "plt.figure(figsize=(10, 8))\n",
        "correlation_matrix = ds.corr().round(2)\n",
        " \n",
        "# Untuk menge-print nilai di dalam kotak, gunakan parameter anot=True\n",
        "sns.heatmap(data=correlation_matrix, annot=True, cmap='coolwarm', linewidths=0.5, )\n",
        "plt.title(\"Correlation Matrix untuk Fitur Numerik \", size=20)"
      ]
    },
    {
      "cell_type": "markdown",
      "source": [
        "Koefisien korelasi berkisar antara -1 dan +1. Semakin dekat nilainya angka 1 atau -1, maka korelasinya semakin kuat. Sedangkan, semakin dekat nilainya ke angka 0 maka korelasinya semakin lemah."
      ],
      "metadata": {
        "id": "XYvmp_Q0JrUf"
      }
    },
    {
      "cell_type": "markdown",
      "source": [
        "Berdasarkan gambar di atas, dapat dilihat bahwa fitur `Oldpeak` (skor korelasi 0.52) dan `MaxHR` (skor korelasi -0.38) memiliki korelasi yang cukup kuat dengan fitur target HeartDisease dibandingkan dengan fitur-fitur lainnya."
      ],
      "metadata": {
        "id": "QqdoAg-iJwUm"
      }
    },
    {
      "cell_type": "code",
      "source": [
        "# drop fitur 'Cholesterol' dan 'FastingBS' karena korelasinya kecil\n",
        "ds.drop(['Cholesterol', 'FastingBS'], inplace=True, axis=1)\n",
        "ds.head()"
      ],
      "metadata": {
        "colab": {
          "base_uri": "https://localhost:8080/",
          "height": 293
        },
        "id": "b8QVJ_ZE687d",
        "outputId": "8e349176-0e85-4ed1-99b8-3790bfaba4b8"
      },
      "execution_count": 25,
      "outputs": [
        {
          "output_type": "stream",
          "name": "stderr",
          "text": [
            "/usr/local/lib/python3.7/dist-packages/pandas/core/frame.py:4913: SettingWithCopyWarning: \n",
            "A value is trying to be set on a copy of a slice from a DataFrame\n",
            "\n",
            "See the caveats in the documentation: https://pandas.pydata.org/pandas-docs/stable/user_guide/indexing.html#returning-a-view-versus-a-copy\n",
            "  errors=errors,\n"
          ]
        },
        {
          "output_type": "execute_result",
          "data": {
            "text/plain": [
              "   Age Sex ChestPainType  RestingBP RestingECG  MaxHR ExerciseAngina  Oldpeak  \\\n",
              "0   40   M           ATA        140     Normal    172              N      0.0   \n",
              "1   49   F           NAP        160     Normal    156              N      1.0   \n",
              "2   37   M           ATA        130         ST     98              N      0.0   \n",
              "3   48   F           ASY        138     Normal    108              Y      1.5   \n",
              "4   54   M           NAP        150     Normal    122              N      0.0   \n",
              "\n",
              "  ST_Slope  HeartDisease  \n",
              "0       Up             0  \n",
              "1     Flat             1  \n",
              "2       Up             0  \n",
              "3     Flat             1  \n",
              "4       Up             0  "
            ],
            "text/html": [
              "\n",
              "  <div id=\"df-0b8a2bcc-ae28-45f4-b04f-dcbec221ed78\">\n",
              "    <div class=\"colab-df-container\">\n",
              "      <div>\n",
              "<style scoped>\n",
              "    .dataframe tbody tr th:only-of-type {\n",
              "        vertical-align: middle;\n",
              "    }\n",
              "\n",
              "    .dataframe tbody tr th {\n",
              "        vertical-align: top;\n",
              "    }\n",
              "\n",
              "    .dataframe thead th {\n",
              "        text-align: right;\n",
              "    }\n",
              "</style>\n",
              "<table border=\"1\" class=\"dataframe\">\n",
              "  <thead>\n",
              "    <tr style=\"text-align: right;\">\n",
              "      <th></th>\n",
              "      <th>Age</th>\n",
              "      <th>Sex</th>\n",
              "      <th>ChestPainType</th>\n",
              "      <th>RestingBP</th>\n",
              "      <th>RestingECG</th>\n",
              "      <th>MaxHR</th>\n",
              "      <th>ExerciseAngina</th>\n",
              "      <th>Oldpeak</th>\n",
              "      <th>ST_Slope</th>\n",
              "      <th>HeartDisease</th>\n",
              "    </tr>\n",
              "  </thead>\n",
              "  <tbody>\n",
              "    <tr>\n",
              "      <th>0</th>\n",
              "      <td>40</td>\n",
              "      <td>M</td>\n",
              "      <td>ATA</td>\n",
              "      <td>140</td>\n",
              "      <td>Normal</td>\n",
              "      <td>172</td>\n",
              "      <td>N</td>\n",
              "      <td>0.0</td>\n",
              "      <td>Up</td>\n",
              "      <td>0</td>\n",
              "    </tr>\n",
              "    <tr>\n",
              "      <th>1</th>\n",
              "      <td>49</td>\n",
              "      <td>F</td>\n",
              "      <td>NAP</td>\n",
              "      <td>160</td>\n",
              "      <td>Normal</td>\n",
              "      <td>156</td>\n",
              "      <td>N</td>\n",
              "      <td>1.0</td>\n",
              "      <td>Flat</td>\n",
              "      <td>1</td>\n",
              "    </tr>\n",
              "    <tr>\n",
              "      <th>2</th>\n",
              "      <td>37</td>\n",
              "      <td>M</td>\n",
              "      <td>ATA</td>\n",
              "      <td>130</td>\n",
              "      <td>ST</td>\n",
              "      <td>98</td>\n",
              "      <td>N</td>\n",
              "      <td>0.0</td>\n",
              "      <td>Up</td>\n",
              "      <td>0</td>\n",
              "    </tr>\n",
              "    <tr>\n",
              "      <th>3</th>\n",
              "      <td>48</td>\n",
              "      <td>F</td>\n",
              "      <td>ASY</td>\n",
              "      <td>138</td>\n",
              "      <td>Normal</td>\n",
              "      <td>108</td>\n",
              "      <td>Y</td>\n",
              "      <td>1.5</td>\n",
              "      <td>Flat</td>\n",
              "      <td>1</td>\n",
              "    </tr>\n",
              "    <tr>\n",
              "      <th>4</th>\n",
              "      <td>54</td>\n",
              "      <td>M</td>\n",
              "      <td>NAP</td>\n",
              "      <td>150</td>\n",
              "      <td>Normal</td>\n",
              "      <td>122</td>\n",
              "      <td>N</td>\n",
              "      <td>0.0</td>\n",
              "      <td>Up</td>\n",
              "      <td>0</td>\n",
              "    </tr>\n",
              "  </tbody>\n",
              "</table>\n",
              "</div>\n",
              "      <button class=\"colab-df-convert\" onclick=\"convertToInteractive('df-0b8a2bcc-ae28-45f4-b04f-dcbec221ed78')\"\n",
              "              title=\"Convert this dataframe to an interactive table.\"\n",
              "              style=\"display:none;\">\n",
              "        \n",
              "  <svg xmlns=\"http://www.w3.org/2000/svg\" height=\"24px\"viewBox=\"0 0 24 24\"\n",
              "       width=\"24px\">\n",
              "    <path d=\"M0 0h24v24H0V0z\" fill=\"none\"/>\n",
              "    <path d=\"M18.56 5.44l.94 2.06.94-2.06 2.06-.94-2.06-.94-.94-2.06-.94 2.06-2.06.94zm-11 1L8.5 8.5l.94-2.06 2.06-.94-2.06-.94L8.5 2.5l-.94 2.06-2.06.94zm10 10l.94 2.06.94-2.06 2.06-.94-2.06-.94-.94-2.06-.94 2.06-2.06.94z\"/><path d=\"M17.41 7.96l-1.37-1.37c-.4-.4-.92-.59-1.43-.59-.52 0-1.04.2-1.43.59L10.3 9.45l-7.72 7.72c-.78.78-.78 2.05 0 2.83L4 21.41c.39.39.9.59 1.41.59.51 0 1.02-.2 1.41-.59l7.78-7.78 2.81-2.81c.8-.78.8-2.07 0-2.86zM5.41 20L4 18.59l7.72-7.72 1.47 1.35L5.41 20z\"/>\n",
              "  </svg>\n",
              "      </button>\n",
              "      \n",
              "  <style>\n",
              "    .colab-df-container {\n",
              "      display:flex;\n",
              "      flex-wrap:wrap;\n",
              "      gap: 12px;\n",
              "    }\n",
              "\n",
              "    .colab-df-convert {\n",
              "      background-color: #E8F0FE;\n",
              "      border: none;\n",
              "      border-radius: 50%;\n",
              "      cursor: pointer;\n",
              "      display: none;\n",
              "      fill: #1967D2;\n",
              "      height: 32px;\n",
              "      padding: 0 0 0 0;\n",
              "      width: 32px;\n",
              "    }\n",
              "\n",
              "    .colab-df-convert:hover {\n",
              "      background-color: #E2EBFA;\n",
              "      box-shadow: 0px 1px 2px rgba(60, 64, 67, 0.3), 0px 1px 3px 1px rgba(60, 64, 67, 0.15);\n",
              "      fill: #174EA6;\n",
              "    }\n",
              "\n",
              "    [theme=dark] .colab-df-convert {\n",
              "      background-color: #3B4455;\n",
              "      fill: #D2E3FC;\n",
              "    }\n",
              "\n",
              "    [theme=dark] .colab-df-convert:hover {\n",
              "      background-color: #434B5C;\n",
              "      box-shadow: 0px 1px 3px 1px rgba(0, 0, 0, 0.15);\n",
              "      filter: drop-shadow(0px 1px 2px rgba(0, 0, 0, 0.3));\n",
              "      fill: #FFFFFF;\n",
              "    }\n",
              "  </style>\n",
              "\n",
              "      <script>\n",
              "        const buttonEl =\n",
              "          document.querySelector('#df-0b8a2bcc-ae28-45f4-b04f-dcbec221ed78 button.colab-df-convert');\n",
              "        buttonEl.style.display =\n",
              "          google.colab.kernel.accessAllowed ? 'block' : 'none';\n",
              "\n",
              "        async function convertToInteractive(key) {\n",
              "          const element = document.querySelector('#df-0b8a2bcc-ae28-45f4-b04f-dcbec221ed78');\n",
              "          const dataTable =\n",
              "            await google.colab.kernel.invokeFunction('convertToInteractive',\n",
              "                                                     [key], {});\n",
              "          if (!dataTable) return;\n",
              "\n",
              "          const docLinkHtml = 'Like what you see? Visit the ' +\n",
              "            '<a target=\"_blank\" href=https://colab.research.google.com/notebooks/data_table.ipynb>data table notebook</a>'\n",
              "            + ' to learn more about interactive tables.';\n",
              "          element.innerHTML = '';\n",
              "          dataTable['output_type'] = 'display_data';\n",
              "          await google.colab.output.renderOutput(dataTable, element);\n",
              "          const docLink = document.createElement('div');\n",
              "          docLink.innerHTML = docLinkHtml;\n",
              "          element.appendChild(docLink);\n",
              "        }\n",
              "      </script>\n",
              "    </div>\n",
              "  </div>\n",
              "  "
            ]
          },
          "metadata": {},
          "execution_count": 25
        }
      ]
    },
    {
      "cell_type": "markdown",
      "source": [
        "## **Data Preparation**"
      ],
      "metadata": {
        "id": "r8iaquG47QWA"
      }
    },
    {
      "cell_type": "markdown",
      "source": [
        "Data preparation merupakan salah satu tahapan yang penting dalam proses pengembangan model machine learning. Pada tahapan ini akan dilakukan proses transformasi pada data sehingga menjadi bentuk yang cocok untuk proses pemodelan."
      ],
      "metadata": {
        "id": "BA0RufHi3-fX"
      }
    },
    {
      "cell_type": "markdown",
      "source": [
        "**1. Encoding Fitur Kategori**"
      ],
      "metadata": {
        "id": "Dl_QVPcd7TSE"
      }
    },
    {
      "cell_type": "markdown",
      "source": [
        "Proses encoding fitur kategori dilakukan dengan menggunakan teknik _one-hot-encoding_ dari library scikit-learn. Teknik ini berfungsi untuk mendapatkan fitur baru yang sesuai sehingga dapat mewakili setiap fitur kategori."
      ],
      "metadata": {
        "id": "RtSXmF3bKiUg"
      }
    },
    {
      "cell_type": "code",
      "source": [
        "ds = pd.concat([ds, pd.get_dummies(ds['Sex'], prefix='Sex')],axis=1)\n",
        "ds = pd.concat([ds, pd.get_dummies(ds['ChestPainType'], prefix='ChestPainType')],axis=1)\n",
        "ds = pd.concat([ds, pd.get_dummies(ds['RestingECG'], prefix='RestingECG')],axis=1)\n",
        "ds = pd.concat([ds, pd.get_dummies(ds['ExerciseAngina'], prefix='ExerciseAngina')],axis=1)\n",
        "ds = pd.concat([ds, pd.get_dummies(ds['ST_Slope'], prefix='ST_Slope')],axis=1)\n",
        "ds.drop(['Sex','ChestPainType','RestingECG', 'ExerciseAngina', 'ST_Slope'], axis=1, inplace=True)\n",
        "ds.head()"
      ],
      "metadata": {
        "colab": {
          "base_uri": "https://localhost:8080/",
          "height": 270
        },
        "id": "7j4dvZbK7Sxv",
        "outputId": "3390ebc7-677f-45bf-e074-06f90f0a4691"
      },
      "execution_count": 26,
      "outputs": [
        {
          "output_type": "execute_result",
          "data": {
            "text/plain": [
              "   Age  RestingBP  MaxHR  Oldpeak  HeartDisease  Sex_F  Sex_M  \\\n",
              "0   40        140    172      0.0             0      0      1   \n",
              "1   49        160    156      1.0             1      1      0   \n",
              "2   37        130     98      0.0             0      0      1   \n",
              "3   48        138    108      1.5             1      1      0   \n",
              "4   54        150    122      0.0             0      0      1   \n",
              "\n",
              "   ChestPainType_ASY  ChestPainType_ATA  ChestPainType_NAP  ChestPainType_TA  \\\n",
              "0                  0                  1                  0                 0   \n",
              "1                  0                  0                  1                 0   \n",
              "2                  0                  1                  0                 0   \n",
              "3                  1                  0                  0                 0   \n",
              "4                  0                  0                  1                 0   \n",
              "\n",
              "   RestingECG_LVH  RestingECG_Normal  RestingECG_ST  ExerciseAngina_N  \\\n",
              "0               0                  1              0                 1   \n",
              "1               0                  1              0                 1   \n",
              "2               0                  0              1                 1   \n",
              "3               0                  1              0                 0   \n",
              "4               0                  1              0                 1   \n",
              "\n",
              "   ExerciseAngina_Y  ST_Slope_Down  ST_Slope_Flat  ST_Slope_Up  \n",
              "0                 0              0              0            1  \n",
              "1                 0              0              1            0  \n",
              "2                 0              0              0            1  \n",
              "3                 1              0              1            0  \n",
              "4                 0              0              0            1  "
            ],
            "text/html": [
              "\n",
              "  <div id=\"df-ca91ce61-9305-43cd-a754-9bdd3519406c\">\n",
              "    <div class=\"colab-df-container\">\n",
              "      <div>\n",
              "<style scoped>\n",
              "    .dataframe tbody tr th:only-of-type {\n",
              "        vertical-align: middle;\n",
              "    }\n",
              "\n",
              "    .dataframe tbody tr th {\n",
              "        vertical-align: top;\n",
              "    }\n",
              "\n",
              "    .dataframe thead th {\n",
              "        text-align: right;\n",
              "    }\n",
              "</style>\n",
              "<table border=\"1\" class=\"dataframe\">\n",
              "  <thead>\n",
              "    <tr style=\"text-align: right;\">\n",
              "      <th></th>\n",
              "      <th>Age</th>\n",
              "      <th>RestingBP</th>\n",
              "      <th>MaxHR</th>\n",
              "      <th>Oldpeak</th>\n",
              "      <th>HeartDisease</th>\n",
              "      <th>Sex_F</th>\n",
              "      <th>Sex_M</th>\n",
              "      <th>ChestPainType_ASY</th>\n",
              "      <th>ChestPainType_ATA</th>\n",
              "      <th>ChestPainType_NAP</th>\n",
              "      <th>ChestPainType_TA</th>\n",
              "      <th>RestingECG_LVH</th>\n",
              "      <th>RestingECG_Normal</th>\n",
              "      <th>RestingECG_ST</th>\n",
              "      <th>ExerciseAngina_N</th>\n",
              "      <th>ExerciseAngina_Y</th>\n",
              "      <th>ST_Slope_Down</th>\n",
              "      <th>ST_Slope_Flat</th>\n",
              "      <th>ST_Slope_Up</th>\n",
              "    </tr>\n",
              "  </thead>\n",
              "  <tbody>\n",
              "    <tr>\n",
              "      <th>0</th>\n",
              "      <td>40</td>\n",
              "      <td>140</td>\n",
              "      <td>172</td>\n",
              "      <td>0.0</td>\n",
              "      <td>0</td>\n",
              "      <td>0</td>\n",
              "      <td>1</td>\n",
              "      <td>0</td>\n",
              "      <td>1</td>\n",
              "      <td>0</td>\n",
              "      <td>0</td>\n",
              "      <td>0</td>\n",
              "      <td>1</td>\n",
              "      <td>0</td>\n",
              "      <td>1</td>\n",
              "      <td>0</td>\n",
              "      <td>0</td>\n",
              "      <td>0</td>\n",
              "      <td>1</td>\n",
              "    </tr>\n",
              "    <tr>\n",
              "      <th>1</th>\n",
              "      <td>49</td>\n",
              "      <td>160</td>\n",
              "      <td>156</td>\n",
              "      <td>1.0</td>\n",
              "      <td>1</td>\n",
              "      <td>1</td>\n",
              "      <td>0</td>\n",
              "      <td>0</td>\n",
              "      <td>0</td>\n",
              "      <td>1</td>\n",
              "      <td>0</td>\n",
              "      <td>0</td>\n",
              "      <td>1</td>\n",
              "      <td>0</td>\n",
              "      <td>1</td>\n",
              "      <td>0</td>\n",
              "      <td>0</td>\n",
              "      <td>1</td>\n",
              "      <td>0</td>\n",
              "    </tr>\n",
              "    <tr>\n",
              "      <th>2</th>\n",
              "      <td>37</td>\n",
              "      <td>130</td>\n",
              "      <td>98</td>\n",
              "      <td>0.0</td>\n",
              "      <td>0</td>\n",
              "      <td>0</td>\n",
              "      <td>1</td>\n",
              "      <td>0</td>\n",
              "      <td>1</td>\n",
              "      <td>0</td>\n",
              "      <td>0</td>\n",
              "      <td>0</td>\n",
              "      <td>0</td>\n",
              "      <td>1</td>\n",
              "      <td>1</td>\n",
              "      <td>0</td>\n",
              "      <td>0</td>\n",
              "      <td>0</td>\n",
              "      <td>1</td>\n",
              "    </tr>\n",
              "    <tr>\n",
              "      <th>3</th>\n",
              "      <td>48</td>\n",
              "      <td>138</td>\n",
              "      <td>108</td>\n",
              "      <td>1.5</td>\n",
              "      <td>1</td>\n",
              "      <td>1</td>\n",
              "      <td>0</td>\n",
              "      <td>1</td>\n",
              "      <td>0</td>\n",
              "      <td>0</td>\n",
              "      <td>0</td>\n",
              "      <td>0</td>\n",
              "      <td>1</td>\n",
              "      <td>0</td>\n",
              "      <td>0</td>\n",
              "      <td>1</td>\n",
              "      <td>0</td>\n",
              "      <td>1</td>\n",
              "      <td>0</td>\n",
              "    </tr>\n",
              "    <tr>\n",
              "      <th>4</th>\n",
              "      <td>54</td>\n",
              "      <td>150</td>\n",
              "      <td>122</td>\n",
              "      <td>0.0</td>\n",
              "      <td>0</td>\n",
              "      <td>0</td>\n",
              "      <td>1</td>\n",
              "      <td>0</td>\n",
              "      <td>0</td>\n",
              "      <td>1</td>\n",
              "      <td>0</td>\n",
              "      <td>0</td>\n",
              "      <td>1</td>\n",
              "      <td>0</td>\n",
              "      <td>1</td>\n",
              "      <td>0</td>\n",
              "      <td>0</td>\n",
              "      <td>0</td>\n",
              "      <td>1</td>\n",
              "    </tr>\n",
              "  </tbody>\n",
              "</table>\n",
              "</div>\n",
              "      <button class=\"colab-df-convert\" onclick=\"convertToInteractive('df-ca91ce61-9305-43cd-a754-9bdd3519406c')\"\n",
              "              title=\"Convert this dataframe to an interactive table.\"\n",
              "              style=\"display:none;\">\n",
              "        \n",
              "  <svg xmlns=\"http://www.w3.org/2000/svg\" height=\"24px\"viewBox=\"0 0 24 24\"\n",
              "       width=\"24px\">\n",
              "    <path d=\"M0 0h24v24H0V0z\" fill=\"none\"/>\n",
              "    <path d=\"M18.56 5.44l.94 2.06.94-2.06 2.06-.94-2.06-.94-.94-2.06-.94 2.06-2.06.94zm-11 1L8.5 8.5l.94-2.06 2.06-.94-2.06-.94L8.5 2.5l-.94 2.06-2.06.94zm10 10l.94 2.06.94-2.06 2.06-.94-2.06-.94-.94-2.06-.94 2.06-2.06.94z\"/><path d=\"M17.41 7.96l-1.37-1.37c-.4-.4-.92-.59-1.43-.59-.52 0-1.04.2-1.43.59L10.3 9.45l-7.72 7.72c-.78.78-.78 2.05 0 2.83L4 21.41c.39.39.9.59 1.41.59.51 0 1.02-.2 1.41-.59l7.78-7.78 2.81-2.81c.8-.78.8-2.07 0-2.86zM5.41 20L4 18.59l7.72-7.72 1.47 1.35L5.41 20z\"/>\n",
              "  </svg>\n",
              "      </button>\n",
              "      \n",
              "  <style>\n",
              "    .colab-df-container {\n",
              "      display:flex;\n",
              "      flex-wrap:wrap;\n",
              "      gap: 12px;\n",
              "    }\n",
              "\n",
              "    .colab-df-convert {\n",
              "      background-color: #E8F0FE;\n",
              "      border: none;\n",
              "      border-radius: 50%;\n",
              "      cursor: pointer;\n",
              "      display: none;\n",
              "      fill: #1967D2;\n",
              "      height: 32px;\n",
              "      padding: 0 0 0 0;\n",
              "      width: 32px;\n",
              "    }\n",
              "\n",
              "    .colab-df-convert:hover {\n",
              "      background-color: #E2EBFA;\n",
              "      box-shadow: 0px 1px 2px rgba(60, 64, 67, 0.3), 0px 1px 3px 1px rgba(60, 64, 67, 0.15);\n",
              "      fill: #174EA6;\n",
              "    }\n",
              "\n",
              "    [theme=dark] .colab-df-convert {\n",
              "      background-color: #3B4455;\n",
              "      fill: #D2E3FC;\n",
              "    }\n",
              "\n",
              "    [theme=dark] .colab-df-convert:hover {\n",
              "      background-color: #434B5C;\n",
              "      box-shadow: 0px 1px 3px 1px rgba(0, 0, 0, 0.15);\n",
              "      filter: drop-shadow(0px 1px 2px rgba(0, 0, 0, 0.3));\n",
              "      fill: #FFFFFF;\n",
              "    }\n",
              "  </style>\n",
              "\n",
              "      <script>\n",
              "        const buttonEl =\n",
              "          document.querySelector('#df-ca91ce61-9305-43cd-a754-9bdd3519406c button.colab-df-convert');\n",
              "        buttonEl.style.display =\n",
              "          google.colab.kernel.accessAllowed ? 'block' : 'none';\n",
              "\n",
              "        async function convertToInteractive(key) {\n",
              "          const element = document.querySelector('#df-ca91ce61-9305-43cd-a754-9bdd3519406c');\n",
              "          const dataTable =\n",
              "            await google.colab.kernel.invokeFunction('convertToInteractive',\n",
              "                                                     [key], {});\n",
              "          if (!dataTable) return;\n",
              "\n",
              "          const docLinkHtml = 'Like what you see? Visit the ' +\n",
              "            '<a target=\"_blank\" href=https://colab.research.google.com/notebooks/data_table.ipynb>data table notebook</a>'\n",
              "            + ' to learn more about interactive tables.';\n",
              "          element.innerHTML = '';\n",
              "          dataTable['output_type'] = 'display_data';\n",
              "          await google.colab.output.renderOutput(dataTable, element);\n",
              "          const docLink = document.createElement('div');\n",
              "          docLink.innerHTML = docLinkHtml;\n",
              "          element.appendChild(docLink);\n",
              "        }\n",
              "      </script>\n",
              "    </div>\n",
              "  </div>\n",
              "  "
            ]
          },
          "metadata": {},
          "execution_count": 26
        }
      ]
    },
    {
      "cell_type": "markdown",
      "metadata": {
        "id": "IU9ps0KNx5LB"
      },
      "source": [
        "**2. Train Test Split**"
      ]
    },
    {
      "cell_type": "markdown",
      "source": [
        "Pada proyek ini, pembagian dataset akan menggunakan proporsi pembagian 80:20 dengan fungsi train_test_split dari sklearn."
      ],
      "metadata": {
        "id": "uXOt7rGFKstj"
      }
    },
    {
      "cell_type": "code",
      "execution_count": 27,
      "metadata": {
        "id": "nN4j7v3sx034"
      },
      "outputs": [],
      "source": [
        "X = ds.drop([\"HeartDisease\"],axis =1)\n",
        "y = ds[\"HeartDisease\"]\n",
        "X_train, X_test, y_train, y_test = train_test_split(X, y, test_size = 0.2, random_state = 123)"
      ]
    },
    {
      "cell_type": "code",
      "execution_count": 28,
      "metadata": {
        "id": "WOx56V5IyJy3",
        "colab": {
          "base_uri": "https://localhost:8080/"
        },
        "outputId": "938daa85-51b6-48bf-f615-a1bf2f833b8a"
      },
      "outputs": [
        {
          "output_type": "stream",
          "name": "stdout",
          "text": [
            "Total # of sample in whole dataset: 588\n",
            "Total # of sample in train dataset: 470\n",
            "Total # of sample in test dataset: 118\n"
          ]
        }
      ],
      "source": [
        "# mengecek jumlah sampel\n",
        "print(f'Total # of sample in whole dataset: {len(X)}')\n",
        "print(f'Total # of sample in train dataset: {len(X_train)}')\n",
        "print(f'Total # of sample in test dataset: {len(X_test)}')"
      ]
    },
    {
      "cell_type": "markdown",
      "metadata": {
        "id": "d9_8puhQygXe"
      },
      "source": [
        "**3. Standarisasi**"
      ]
    },
    {
      "cell_type": "markdown",
      "source": [
        "Standarisasi merupakan teknik transformasi yang umum digunakan dalam tahap Data Preparation untuk pemodelan. Tujuan proses standarisasi adalah membantu untuk membuat fitur data menjadi bentuk yang lebih mudah diolah oleh algoritma. Pada proyek ini, fitur numerik akan distandarisasi menggunakan teknik `StandarScaler()` dari library scikit-learn."
      ],
      "metadata": {
        "id": "1aGH3gjwLDJ9"
      }
    },
    {
      "cell_type": "markdown",
      "source": [
        "StandardScaler melakukan proses standarisasi fitur dengan mengurangkan mean kemudian membaginya dengan standar deviasi untuk menggeser distribusi. StandardScaler menghasilkan distribusi dengan standar deviasi sama dengan 1 dan mean sama dengan 0."
      ],
      "metadata": {
        "id": "DGX1E_jl4VvO"
      }
    },
    {
      "cell_type": "code",
      "execution_count": 29,
      "metadata": {
        "id": "DmAZu6Bhyi9l",
        "colab": {
          "base_uri": "https://localhost:8080/",
          "height": 206
        },
        "outputId": "ea0ef636-4b78-4518-8448-76dc41b2d3cf"
      },
      "outputs": [
        {
          "output_type": "execute_result",
          "data": {
            "text/plain": [
              "          Age  RestingBP     MaxHR   Oldpeak\n",
              "219 -2.375988   0.614750  1.166316 -0.830821\n",
              "807  0.230722  -1.512198  0.587338 -0.830821\n",
              "804  1.899016   1.944093 -1.232309  2.078761\n",
              "879 -0.394889  -1.379264  1.083605  0.172483\n",
              "265  0.230722   1.944093  1.373094 -0.830821"
            ],
            "text/html": [
              "\n",
              "  <div id=\"df-5097ee83-2c8c-4191-8192-be0d17f055a8\">\n",
              "    <div class=\"colab-df-container\">\n",
              "      <div>\n",
              "<style scoped>\n",
              "    .dataframe tbody tr th:only-of-type {\n",
              "        vertical-align: middle;\n",
              "    }\n",
              "\n",
              "    .dataframe tbody tr th {\n",
              "        vertical-align: top;\n",
              "    }\n",
              "\n",
              "    .dataframe thead th {\n",
              "        text-align: right;\n",
              "    }\n",
              "</style>\n",
              "<table border=\"1\" class=\"dataframe\">\n",
              "  <thead>\n",
              "    <tr style=\"text-align: right;\">\n",
              "      <th></th>\n",
              "      <th>Age</th>\n",
              "      <th>RestingBP</th>\n",
              "      <th>MaxHR</th>\n",
              "      <th>Oldpeak</th>\n",
              "    </tr>\n",
              "  </thead>\n",
              "  <tbody>\n",
              "    <tr>\n",
              "      <th>219</th>\n",
              "      <td>-2.375988</td>\n",
              "      <td>0.614750</td>\n",
              "      <td>1.166316</td>\n",
              "      <td>-0.830821</td>\n",
              "    </tr>\n",
              "    <tr>\n",
              "      <th>807</th>\n",
              "      <td>0.230722</td>\n",
              "      <td>-1.512198</td>\n",
              "      <td>0.587338</td>\n",
              "      <td>-0.830821</td>\n",
              "    </tr>\n",
              "    <tr>\n",
              "      <th>804</th>\n",
              "      <td>1.899016</td>\n",
              "      <td>1.944093</td>\n",
              "      <td>-1.232309</td>\n",
              "      <td>2.078761</td>\n",
              "    </tr>\n",
              "    <tr>\n",
              "      <th>879</th>\n",
              "      <td>-0.394889</td>\n",
              "      <td>-1.379264</td>\n",
              "      <td>1.083605</td>\n",
              "      <td>0.172483</td>\n",
              "    </tr>\n",
              "    <tr>\n",
              "      <th>265</th>\n",
              "      <td>0.230722</td>\n",
              "      <td>1.944093</td>\n",
              "      <td>1.373094</td>\n",
              "      <td>-0.830821</td>\n",
              "    </tr>\n",
              "  </tbody>\n",
              "</table>\n",
              "</div>\n",
              "      <button class=\"colab-df-convert\" onclick=\"convertToInteractive('df-5097ee83-2c8c-4191-8192-be0d17f055a8')\"\n",
              "              title=\"Convert this dataframe to an interactive table.\"\n",
              "              style=\"display:none;\">\n",
              "        \n",
              "  <svg xmlns=\"http://www.w3.org/2000/svg\" height=\"24px\"viewBox=\"0 0 24 24\"\n",
              "       width=\"24px\">\n",
              "    <path d=\"M0 0h24v24H0V0z\" fill=\"none\"/>\n",
              "    <path d=\"M18.56 5.44l.94 2.06.94-2.06 2.06-.94-2.06-.94-.94-2.06-.94 2.06-2.06.94zm-11 1L8.5 8.5l.94-2.06 2.06-.94-2.06-.94L8.5 2.5l-.94 2.06-2.06.94zm10 10l.94 2.06.94-2.06 2.06-.94-2.06-.94-.94-2.06-.94 2.06-2.06.94z\"/><path d=\"M17.41 7.96l-1.37-1.37c-.4-.4-.92-.59-1.43-.59-.52 0-1.04.2-1.43.59L10.3 9.45l-7.72 7.72c-.78.78-.78 2.05 0 2.83L4 21.41c.39.39.9.59 1.41.59.51 0 1.02-.2 1.41-.59l7.78-7.78 2.81-2.81c.8-.78.8-2.07 0-2.86zM5.41 20L4 18.59l7.72-7.72 1.47 1.35L5.41 20z\"/>\n",
              "  </svg>\n",
              "      </button>\n",
              "      \n",
              "  <style>\n",
              "    .colab-df-container {\n",
              "      display:flex;\n",
              "      flex-wrap:wrap;\n",
              "      gap: 12px;\n",
              "    }\n",
              "\n",
              "    .colab-df-convert {\n",
              "      background-color: #E8F0FE;\n",
              "      border: none;\n",
              "      border-radius: 50%;\n",
              "      cursor: pointer;\n",
              "      display: none;\n",
              "      fill: #1967D2;\n",
              "      height: 32px;\n",
              "      padding: 0 0 0 0;\n",
              "      width: 32px;\n",
              "    }\n",
              "\n",
              "    .colab-df-convert:hover {\n",
              "      background-color: #E2EBFA;\n",
              "      box-shadow: 0px 1px 2px rgba(60, 64, 67, 0.3), 0px 1px 3px 1px rgba(60, 64, 67, 0.15);\n",
              "      fill: #174EA6;\n",
              "    }\n",
              "\n",
              "    [theme=dark] .colab-df-convert {\n",
              "      background-color: #3B4455;\n",
              "      fill: #D2E3FC;\n",
              "    }\n",
              "\n",
              "    [theme=dark] .colab-df-convert:hover {\n",
              "      background-color: #434B5C;\n",
              "      box-shadow: 0px 1px 3px 1px rgba(0, 0, 0, 0.15);\n",
              "      filter: drop-shadow(0px 1px 2px rgba(0, 0, 0, 0.3));\n",
              "      fill: #FFFFFF;\n",
              "    }\n",
              "  </style>\n",
              "\n",
              "      <script>\n",
              "        const buttonEl =\n",
              "          document.querySelector('#df-5097ee83-2c8c-4191-8192-be0d17f055a8 button.colab-df-convert');\n",
              "        buttonEl.style.display =\n",
              "          google.colab.kernel.accessAllowed ? 'block' : 'none';\n",
              "\n",
              "        async function convertToInteractive(key) {\n",
              "          const element = document.querySelector('#df-5097ee83-2c8c-4191-8192-be0d17f055a8');\n",
              "          const dataTable =\n",
              "            await google.colab.kernel.invokeFunction('convertToInteractive',\n",
              "                                                     [key], {});\n",
              "          if (!dataTable) return;\n",
              "\n",
              "          const docLinkHtml = 'Like what you see? Visit the ' +\n",
              "            '<a target=\"_blank\" href=https://colab.research.google.com/notebooks/data_table.ipynb>data table notebook</a>'\n",
              "            + ' to learn more about interactive tables.';\n",
              "          element.innerHTML = '';\n",
              "          dataTable['output_type'] = 'display_data';\n",
              "          await google.colab.output.renderOutput(dataTable, element);\n",
              "          const docLink = document.createElement('div');\n",
              "          docLink.innerHTML = docLinkHtml;\n",
              "          element.appendChild(docLink);\n",
              "        }\n",
              "      </script>\n",
              "    </div>\n",
              "  </div>\n",
              "  "
            ]
          },
          "metadata": {},
          "execution_count": 29
        }
      ],
      "source": [
        "# melakukan standarisasi pd data latih\n",
        "\n",
        "numerical_features = ['Age', 'RestingBP', 'MaxHR', 'Oldpeak']\n",
        "scaler = StandardScaler()\n",
        "scaler.fit(X_train[numerical_features])\n",
        "X_train[numerical_features] = scaler.transform(X_train.loc[:, numerical_features])\n",
        "X_train[numerical_features].head()"
      ]
    },
    {
      "cell_type": "code",
      "execution_count": 30,
      "metadata": {
        "id": "tfxds9YazP5v",
        "colab": {
          "base_uri": "https://localhost:8080/",
          "height": 300
        },
        "outputId": "c8d31760-9dba-49c6-a8a4-76ced08a990e"
      },
      "outputs": [
        {
          "output_type": "execute_result",
          "data": {
            "text/plain": [
              "          Age  RestingBP   MaxHR  Oldpeak\n",
              "count  470.00     470.00  470.00   470.00\n",
              "mean    -0.00       0.00    0.00    -0.00\n",
              "std      1.00       1.00    1.00     1.00\n",
              "min     -2.48      -2.58   -2.56    -0.93\n",
              "25%     -0.71      -0.71   -0.73    -0.83\n",
              "50%      0.07      -0.05    0.01    -0.58\n",
              "75%      0.65       0.61    0.78     0.67\n",
              "max      2.63       2.61    2.49     2.78"
            ],
            "text/html": [
              "\n",
              "  <div id=\"df-91f83a9b-134d-4799-9fb8-a9709bda48ae\">\n",
              "    <div class=\"colab-df-container\">\n",
              "      <div>\n",
              "<style scoped>\n",
              "    .dataframe tbody tr th:only-of-type {\n",
              "        vertical-align: middle;\n",
              "    }\n",
              "\n",
              "    .dataframe tbody tr th {\n",
              "        vertical-align: top;\n",
              "    }\n",
              "\n",
              "    .dataframe thead th {\n",
              "        text-align: right;\n",
              "    }\n",
              "</style>\n",
              "<table border=\"1\" class=\"dataframe\">\n",
              "  <thead>\n",
              "    <tr style=\"text-align: right;\">\n",
              "      <th></th>\n",
              "      <th>Age</th>\n",
              "      <th>RestingBP</th>\n",
              "      <th>MaxHR</th>\n",
              "      <th>Oldpeak</th>\n",
              "    </tr>\n",
              "  </thead>\n",
              "  <tbody>\n",
              "    <tr>\n",
              "      <th>count</th>\n",
              "      <td>470.00</td>\n",
              "      <td>470.00</td>\n",
              "      <td>470.00</td>\n",
              "      <td>470.00</td>\n",
              "    </tr>\n",
              "    <tr>\n",
              "      <th>mean</th>\n",
              "      <td>-0.00</td>\n",
              "      <td>0.00</td>\n",
              "      <td>0.00</td>\n",
              "      <td>-0.00</td>\n",
              "    </tr>\n",
              "    <tr>\n",
              "      <th>std</th>\n",
              "      <td>1.00</td>\n",
              "      <td>1.00</td>\n",
              "      <td>1.00</td>\n",
              "      <td>1.00</td>\n",
              "    </tr>\n",
              "    <tr>\n",
              "      <th>min</th>\n",
              "      <td>-2.48</td>\n",
              "      <td>-2.58</td>\n",
              "      <td>-2.56</td>\n",
              "      <td>-0.93</td>\n",
              "    </tr>\n",
              "    <tr>\n",
              "      <th>25%</th>\n",
              "      <td>-0.71</td>\n",
              "      <td>-0.71</td>\n",
              "      <td>-0.73</td>\n",
              "      <td>-0.83</td>\n",
              "    </tr>\n",
              "    <tr>\n",
              "      <th>50%</th>\n",
              "      <td>0.07</td>\n",
              "      <td>-0.05</td>\n",
              "      <td>0.01</td>\n",
              "      <td>-0.58</td>\n",
              "    </tr>\n",
              "    <tr>\n",
              "      <th>75%</th>\n",
              "      <td>0.65</td>\n",
              "      <td>0.61</td>\n",
              "      <td>0.78</td>\n",
              "      <td>0.67</td>\n",
              "    </tr>\n",
              "    <tr>\n",
              "      <th>max</th>\n",
              "      <td>2.63</td>\n",
              "      <td>2.61</td>\n",
              "      <td>2.49</td>\n",
              "      <td>2.78</td>\n",
              "    </tr>\n",
              "  </tbody>\n",
              "</table>\n",
              "</div>\n",
              "      <button class=\"colab-df-convert\" onclick=\"convertToInteractive('df-91f83a9b-134d-4799-9fb8-a9709bda48ae')\"\n",
              "              title=\"Convert this dataframe to an interactive table.\"\n",
              "              style=\"display:none;\">\n",
              "        \n",
              "  <svg xmlns=\"http://www.w3.org/2000/svg\" height=\"24px\"viewBox=\"0 0 24 24\"\n",
              "       width=\"24px\">\n",
              "    <path d=\"M0 0h24v24H0V0z\" fill=\"none\"/>\n",
              "    <path d=\"M18.56 5.44l.94 2.06.94-2.06 2.06-.94-2.06-.94-.94-2.06-.94 2.06-2.06.94zm-11 1L8.5 8.5l.94-2.06 2.06-.94-2.06-.94L8.5 2.5l-.94 2.06-2.06.94zm10 10l.94 2.06.94-2.06 2.06-.94-2.06-.94-.94-2.06-.94 2.06-2.06.94z\"/><path d=\"M17.41 7.96l-1.37-1.37c-.4-.4-.92-.59-1.43-.59-.52 0-1.04.2-1.43.59L10.3 9.45l-7.72 7.72c-.78.78-.78 2.05 0 2.83L4 21.41c.39.39.9.59 1.41.59.51 0 1.02-.2 1.41-.59l7.78-7.78 2.81-2.81c.8-.78.8-2.07 0-2.86zM5.41 20L4 18.59l7.72-7.72 1.47 1.35L5.41 20z\"/>\n",
              "  </svg>\n",
              "      </button>\n",
              "      \n",
              "  <style>\n",
              "    .colab-df-container {\n",
              "      display:flex;\n",
              "      flex-wrap:wrap;\n",
              "      gap: 12px;\n",
              "    }\n",
              "\n",
              "    .colab-df-convert {\n",
              "      background-color: #E8F0FE;\n",
              "      border: none;\n",
              "      border-radius: 50%;\n",
              "      cursor: pointer;\n",
              "      display: none;\n",
              "      fill: #1967D2;\n",
              "      height: 32px;\n",
              "      padding: 0 0 0 0;\n",
              "      width: 32px;\n",
              "    }\n",
              "\n",
              "    .colab-df-convert:hover {\n",
              "      background-color: #E2EBFA;\n",
              "      box-shadow: 0px 1px 2px rgba(60, 64, 67, 0.3), 0px 1px 3px 1px rgba(60, 64, 67, 0.15);\n",
              "      fill: #174EA6;\n",
              "    }\n",
              "\n",
              "    [theme=dark] .colab-df-convert {\n",
              "      background-color: #3B4455;\n",
              "      fill: #D2E3FC;\n",
              "    }\n",
              "\n",
              "    [theme=dark] .colab-df-convert:hover {\n",
              "      background-color: #434B5C;\n",
              "      box-shadow: 0px 1px 3px 1px rgba(0, 0, 0, 0.15);\n",
              "      filter: drop-shadow(0px 1px 2px rgba(0, 0, 0, 0.3));\n",
              "      fill: #FFFFFF;\n",
              "    }\n",
              "  </style>\n",
              "\n",
              "      <script>\n",
              "        const buttonEl =\n",
              "          document.querySelector('#df-91f83a9b-134d-4799-9fb8-a9709bda48ae button.colab-df-convert');\n",
              "        buttonEl.style.display =\n",
              "          google.colab.kernel.accessAllowed ? 'block' : 'none';\n",
              "\n",
              "        async function convertToInteractive(key) {\n",
              "          const element = document.querySelector('#df-91f83a9b-134d-4799-9fb8-a9709bda48ae');\n",
              "          const dataTable =\n",
              "            await google.colab.kernel.invokeFunction('convertToInteractive',\n",
              "                                                     [key], {});\n",
              "          if (!dataTable) return;\n",
              "\n",
              "          const docLinkHtml = 'Like what you see? Visit the ' +\n",
              "            '<a target=\"_blank\" href=https://colab.research.google.com/notebooks/data_table.ipynb>data table notebook</a>'\n",
              "            + ' to learn more about interactive tables.';\n",
              "          element.innerHTML = '';\n",
              "          dataTable['output_type'] = 'display_data';\n",
              "          await google.colab.output.renderOutput(dataTable, element);\n",
              "          const docLink = document.createElement('div');\n",
              "          docLink.innerHTML = docLinkHtml;\n",
              "          element.appendChild(docLink);\n",
              "        }\n",
              "      </script>\n",
              "    </div>\n",
              "  </div>\n",
              "  "
            ]
          },
          "metadata": {},
          "execution_count": 30
        }
      ],
      "source": [
        "# mengecek nilai mean & standar deviasi setelah proses standarisasi\n",
        "X_train[numerical_features].describe().round(2)"
      ]
    },
    {
      "cell_type": "markdown",
      "source": [
        "Dapat dilihat bahwa setelah proses standarisasi sekarang nilai mean = 0 dan standar deviasi = 1."
      ],
      "metadata": {
        "id": "OW0hdCC1LZdz"
      }
    },
    {
      "cell_type": "markdown",
      "metadata": {
        "id": "ywmRnT5LzTGb"
      },
      "source": [
        "## **Model Development**"
      ]
    },
    {
      "cell_type": "markdown",
      "source": [
        "---\n",
        "Pada proyek ini, pemodelan dilakukan menggunakan tiga algoritma. Kemudian, selanjutnya akan dilakukan evaluasi performa masing-masing algoritma dan menentukan algoritma mana yang memberikan hasil prediksi terbaik. Berikut adalah algoritma yang akan digunakan, antara lain : \n",
        "\n",
        "**1. K-Nearest Neighbor (KNN)**\n",
        "\n",
        "* Kelebihan : relatif sederhana, mudah dipahami dan digunakan.\n",
        "* Kekurangan : jika dihadapkan pada jumlah fitur atau dimensi yang besar rawan terjadi bias (_curse of dimensionality_).\n",
        "\n",
        "**2. Random Forest**\n",
        "\n",
        "* Kelebihan : merupakan algoritma yang cukup sederhana tetapi memiliki stabilitas yang mumpuni, menggunakan teknik _bagging_ untuk mengatasi _overfitting_ dengan berjalan secara paralel, dapat digunakan untuk menyelesaikan masalah klasifikasi dan regresi.  \n",
        "* Kekurangan : algoritma yang kompleks dan membutuhkan waktu relatif lebih lama dan daya komputasi yang lebih tinggi dibanding algoritma lain, seperti Decision Tree.\n",
        "\n",
        "**3. Boosting Algorithm**\n",
        "\n",
        "* Kelebihan : menggunakan teknik _boosting_ untuk mengurangi bias dengan berjalan secara sekuensial.\n",
        "* Kekurangan : algoritma yang kompleks dan membutuhkan waktu relatif lebih lama dan daya komputasi yang lebih tinggi dibanding algoritma lain.\n",
        "\n",
        "---"
      ],
      "metadata": {
        "id": "TOZr08fUM8pF"
      }
    },
    {
      "cell_type": "markdown",
      "source": [
        "Langkah yang pertama, siapkan dataframe untuk menampung nilai metrik MSE (_Mean Square Error_) pada setiap model. Hal ini digunakan untuk melakukan analisa perbandingan antar model nantinya."
      ],
      "metadata": {
        "id": "u3gQWSbxNSwH"
      }
    },
    {
      "cell_type": "code",
      "execution_count": 31,
      "metadata": {
        "id": "MfsDGVvDzVh0"
      },
      "outputs": [],
      "source": [
        "models = pd.DataFrame(index=['train_mse', 'test_mse'], \n",
        "                      columns=['KNN', 'RandomForest', 'Boosting'])"
      ]
    },
    {
      "cell_type": "markdown",
      "source": [
        "**1. Model Algoritma K-Nearest Neighbor (KNN)**"
      ],
      "metadata": {
        "id": "11tbCuQ7_I7K"
      }
    },
    {
      "cell_type": "markdown",
      "source": [
        "Algoritma KNN bekerja dengan membandingkan jarak satu sampel ke sampel pelatihan lain dengan memilih sejumlah k tetangga terdekat (dengan k adalah sebuah angka positif).\n",
        "\n",
        "Pemilihan nilai k sangat penting dan berpengaruh terhadap performa model. Jika kita memilih k yang terlalu rendah, maka akan menghasilkan model yang overfit dan hasil prediksinya memiliki varians tinggi. Jika kita memilih k terlalu tinggi, maka model yang dihasilkan akan underfit dan prediksinya memiliki bias yang tinggi [[7]](https://www.oreilly.com/library/view/machine-learning-with/9781617296574/). "
      ],
      "metadata": {
        "id": "8aYncBxsibS-"
      }
    },
    {
      "cell_type": "markdown",
      "source": [
        "Pada proyek ini kita akan mencoba beberapa nilai k yang berbeda (1 sampai 20), kemudian akan dibandingkan dan dipilih yang menghasilkan nilai metrik model terbaik. Metrik model yang digunakan yakni _mean squared error_ dan metrik ukuran jarak yang digunakan yakni Minkowski Distance pada library sklearn."
      ],
      "metadata": {
        "id": "MjlJzgXFijxw"
      }
    },
    {
      "cell_type": "code",
      "source": [
        "list_mse = []\n",
        "print(f\"Nilai MSE \\t\")\n",
        "for k in range(1, 21):\n",
        "  knn = KNeighborsRegressor(n_neighbors=k)\n",
        "  knn.fit(X_train, y_train)\n",
        "  y_prediction = knn.predict(X_test)\n",
        "  test_mse = mean_squared_error(y_test, y_prediction)\n",
        "  list_mse.append(test_mse)\n",
        "  print(f\"untuk k = {k} adalah : {test_mse}\")"
      ],
      "metadata": {
        "colab": {
          "base_uri": "https://localhost:8080/"
        },
        "id": "Y0mAHtE_in9h",
        "outputId": "92238720-9b37-436c-c912-b74cd3716408"
      },
      "execution_count": 32,
      "outputs": [
        {
          "output_type": "stream",
          "name": "stdout",
          "text": [
            "Nilai MSE \t\n",
            "untuk k = 1 adalah : 0.3898305084745763\n",
            "untuk k = 2 adalah : 0.3792372881355932\n",
            "untuk k = 3 adalah : 0.36723163841807904\n",
            "untuk k = 4 adalah : 0.3315677966101695\n",
            "untuk k = 5 adalah : 0.32508474576271185\n",
            "untuk k = 6 adalah : 0.29755178907721286\n",
            "untuk k = 7 adalah : 0.2917675544794188\n",
            "untuk k = 8 adalah : 0.2770127118644068\n",
            "untuk k = 9 adalah : 0.2680477087256748\n",
            "untuk k = 10 adalah : 0.2673728813559322\n",
            "untuk k = 11 adalah : 0.2712564784983891\n",
            "untuk k = 12 adalah : 0.26877354048964225\n",
            "untuk k = 13 adalah : 0.26727509778357234\n",
            "untuk k = 14 adalah : 0.25272397094431\n",
            "untuk k = 15 adalah : 0.24870056497175144\n",
            "untuk k = 16 adalah : 0.2507944915254237\n",
            "untuk k = 17 adalah : 0.24558676910445132\n",
            "untuk k = 18 adalah : 0.23624189160912326\n",
            "untuk k = 19 adalah : 0.23231137612094466\n",
            "untuk k = 20 adalah : 0.22970338983050845\n"
          ]
        }
      ]
    },
    {
      "cell_type": "markdown",
      "source": [
        "Untuk mempermudah dalam menentukan nilai k terbaik akan dilakukan visualisasi menggunakan fungsi `plot()` untuk nilai MSE yang telah diperoleh sebelumnya."
      ],
      "metadata": {
        "id": "z9lcpvDbjMQb"
      }
    },
    {
      "cell_type": "code",
      "source": [
        "pd.DataFrame(list_mse, index=range(1, 21)).plot(\n",
        "    xlabel=\"Nilai K\",\n",
        "    ylabel=\"Mean Squared Error\",\n",
        "    legend=False,\n",
        "    xticks=range(1,21), \n",
        "    figsize=(12,4),\n",
        "    title='Plot Nilai K terhadap MSE')"
      ],
      "metadata": {
        "colab": {
          "base_uri": "https://localhost:8080/",
          "height": 318
        },
        "id": "cq0-Bw8gjbDA",
        "outputId": "b0486405-79a7-4031-f161-70e15fc1a298"
      },
      "execution_count": 33,
      "outputs": [
        {
          "output_type": "execute_result",
          "data": {
            "text/plain": [
              "<matplotlib.axes._subplots.AxesSubplot at 0x7f369f11a590>"
            ]
          },
          "metadata": {},
          "execution_count": 33
        },
        {
          "output_type": "display_data",
          "data": {
            "text/plain": [
              "<Figure size 864x288 with 1 Axes>"
            ],
            "image/png": "[encoded data removed]"
          },
          "metadata": {}
        }
      ]
    },
    {
      "cell_type": "markdown",
      "source": [
        "Berdasarkan output di atas dapat terlihat bahwa nilai MSE terbaik (terendah) dicapai ketika nilai `k = 20` yaitu sebesar 0.229. Oleh karena itu pada pemodelan data latih nilai k yang digunakan yakni `k = 20`. Berikut penerapannya."
      ],
      "metadata": {
        "id": "ibLczP2lj_ru"
      }
    },
    {
      "cell_type": "code",
      "source": [
        "knn = KNeighborsRegressor(n_neighbors=20)\n",
        "knn.fit(X_train, y_train)\n",
        " \n",
        "models.loc['train_mse','knn'] = mean_squared_error(y_pred = knn.predict(X_train), y_true=y_train)"
      ],
      "metadata": {
        "id": "MQAf3K3y_Ktz"
      },
      "execution_count": 34,
      "outputs": []
    },
    {
      "cell_type": "markdown",
      "source": [
        "**2. Model Algoritma Random Forest**"
      ],
      "metadata": {
        "id": "72lPH0eA_Xh3"
      }
    },
    {
      "cell_type": "markdown",
      "source": [
        "Algoritma random forest merupakan salah satu algoritma supervised learning yang dapat digunakan untuk menyelesaikan masalah klasifikasi dan regresi. \n",
        "\n",
        "Random forest merupakan salah satu model machine learning yang termasuk ke dalam kategori ensemble (group) learning. Pada model ensemble, setiap model harus membuat prediksi secara independen. Kemudian, prediksi dari setiap model ensemble ini digabungkan untuk membuat prediksi akhir. "
      ],
      "metadata": {
        "id": "qZmnOCL_lUNt"
      }
    },
    {
      "cell_type": "markdown",
      "source": [
        "Pada proyek ini kita akan menggunakan `RandomForestRegressor` dari library scikit-learn. Berikut parameter-parameter yang digunakan :\n",
        "* n_estimator: jumlah trees (pohon) di forest.\n",
        "* max_depth: kedalaman atau panjang pohon. Ia merupakan ukuran seberapa banyak pohon dapat membelah (splitting) untuk membagi setiap node ke dalam jumlah pengamatan yang diinginkan.\n",
        "* random_state: digunakan untuk mengontrol random number generator yang digunakan.\n",
        "* n_jobs: jumlah job (pekerjaan) yang digunakan secara paralel. Ia merupakan komponen untuk mengontrol thread atau proses yang berjalan secara paralel. n_jobs=-1 artinya semua proses berjalan secara paralel."
      ],
      "metadata": {
        "id": "uOsoR9gCoMTc"
      }
    },
    {
      "cell_type": "markdown",
      "source": [
        "Untuk menentukan nilai parameter (`n_estimators` dan `max_depth`) terbaik, kita akan melakukan tuning dengan `GridSearchCV`, berikut penerapannya. "
      ],
      "metadata": {
        "id": "PgfTyEgOosZX"
      }
    },
    {
      "cell_type": "code",
      "source": [
        "model = RandomForestRegressor()\n",
        "parameters = {\n",
        "    \"n_estimators\": np.arange(10, 100, 10), # kelipatan 10 mulai dari 10 sampai 90\n",
        "    \"max_depth\": [4, 8, 16, 32]\n",
        "}\n",
        "\n",
        "grid_search = GridSearchCV(model, parameters)\n",
        "\n",
        "# melatih model dengan fungsi fit\n",
        "grid_search.fit(X_train, y_train)\n",
        "\n",
        "print(\"RF GridSearch score: \"+str(grid_search.best_score_))\n",
        "print(\"RF GridSearch params: \")\n",
        "print(grid_search.best_params_)"
      ],
      "metadata": {
        "colab": {
          "base_uri": "https://localhost:8080/"
        },
        "id": "-0Tu0py_mMY5",
        "outputId": "e0c0983e-e5e5-4ecc-f581-7341e4a958d7"
      },
      "execution_count": 35,
      "outputs": [
        {
          "output_type": "stream",
          "name": "stdout",
          "text": [
            "RF GridSearch score: 0.5815682140332608\n",
            "RF GridSearch params: \n",
            "{'max_depth': 4, 'n_estimators': 60}\n"
          ]
        }
      ]
    },
    {
      "cell_type": "markdown",
      "source": [
        "Berdasarkan output didapatkan nilai `max_depth` = 4 dan `n_estimators` = 60 dengan skor terbaik dari GridSearch = 0.581."
      ],
      "metadata": {
        "id": "CUOdXLcln-P-"
      }
    },
    {
      "cell_type": "markdown",
      "source": [
        "Oleh karena itu nilai-nilai tersebut akan kita terapkan pada pengaturan pemodelan, berikut penerapannya."
      ],
      "metadata": {
        "id": "DE6OZ-v7pfxu"
      }
    },
    {
      "cell_type": "code",
      "source": [
        "RF = RandomForestRegressor(n_estimators=60, max_depth=4, random_state=55, n_jobs=-1)\n",
        "RF.fit(X_train, y_train)\n",
        " \n",
        "models.loc['train_mse','RandomForest'] = mean_squared_error(y_pred=RF.predict(X_train), y_true=y_train)          "
      ],
      "metadata": {
        "id": "m4yTWCWW_aIY"
      },
      "execution_count": 44,
      "outputs": []
    },
    {
      "cell_type": "markdown",
      "source": [
        "**3. Model Boosting Algorithm**"
      ],
      "metadata": {
        "id": "o0lpesHu_dk9"
      }
    },
    {
      "cell_type": "markdown",
      "source": [
        "Boosting Algorithm juga merupakan salah satu model machine learning yang termasuk ke dalam kategori ensemble (group) learning yang menggunakan teknik Boosting. Pada algoritma ini model dibangun dari data latih (train), kemudian membuat model kedua yang bertugas memperbaiki kesalahan dari model pertama. Model terus ditambahkan sampai data latih terprediksi dengan baik atau telah mencapai jumlah maksimum model untuk ditambahkan."
      ],
      "metadata": {
        "id": "ewDN1vT6p7ZG"
      }
    },
    {
      "cell_type": "markdown",
      "source": [
        "Pada proyek ini kita akan menggunakan Adaptive Boosting menggunakan `AdaBoostRegressor` dari library scikit-learn. Berikut parameter-parameter yang digunakan :\n",
        "* n_estimator: jumlah estimator, ketika mencapai nilai jumlah tersebut algoritma Boosting akan dihentikan.\n",
        "* learning_rate: bobot yang diterapkan pada setiap regressor di masing-masing iterasi Boosting.\n",
        "* random_state: digunakan untuk mengontrol random number generator yang digunakan."
      ],
      "metadata": {
        "id": "SzRXPoP2qxxF"
      }
    },
    {
      "cell_type": "markdown",
      "source": [
        "Untuk menentukan nilai parameter (`n_estimators` dan `learning_rate`) terbaik, kita akan melakukan tuning dengan `RandomizedSearchCV`, berikut penerapannya. "
      ],
      "metadata": {
        "id": "39ArncnYrgL4"
      }
    },
    {
      "cell_type": "code",
      "source": [
        "parameters = {\n",
        "    \"n_estimators\": np.arange(10, 100, 10), # kelipatan 10 mulai dari 10 sampai 90\n",
        "    \"learning_rate\": [0.001, 0.01, 0.1, 0.2]\n",
        "}\n",
        "\n",
        "# Randomized search model\n",
        "randomized_search = RandomizedSearchCV(\n",
        "    AdaBoostRegressor(random_state=123),\n",
        "    param_distributions=parameters,\n",
        "    scoring='neg_mean_squared_error', # Negatif dari nilai MSE\n",
        "    verbose=3\n",
        ")\n",
        "\n",
        "randomized_search.fit(X_train, y_train)"
      ],
      "metadata": {
        "colab": {
          "base_uri": "https://localhost:8080/"
        },
        "id": "K6VGUJ4arpqL",
        "outputId": "6459f64c-e98d-48e9-a8fa-90892d27b3bc"
      },
      "execution_count": 45,
      "outputs": [
        {
          "output_type": "stream",
          "name": "stdout",
          "text": [
            "Fitting 5 folds for each of 10 candidates, totalling 50 fits\n",
            "[CV 1/5] END learning_rate=0.1, n_estimators=20;, score=-0.123 total time=   0.0s\n",
            "[CV 2/5] END learning_rate=0.1, n_estimators=20;, score=-0.115 total time=   0.0s\n",
            "[CV 3/5] END learning_rate=0.1, n_estimators=20;, score=-0.104 total time=   0.0s\n",
            "[CV 4/5] END learning_rate=0.1, n_estimators=20;, score=-0.086 total time=   0.0s\n",
            "[CV 5/5] END learning_rate=0.1, n_estimators=20;, score=-0.115 total time=   0.0s\n",
            "[CV 1/5] END learning_rate=0.001, n_estimators=60;, score=-0.121 total time=   0.1s\n",
            "[CV 2/5] END learning_rate=0.001, n_estimators=60;, score=-0.108 total time=   0.1s\n",
            "[CV 3/5] END learning_rate=0.001, n_estimators=60;, score=-0.119 total time=   0.1s\n",
            "[CV 4/5] END learning_rate=0.001, n_estimators=60;, score=-0.076 total time=   0.1s\n",
            "[CV 5/5] END learning_rate=0.001, n_estimators=60;, score=-0.116 total time=   0.1s\n",
            "[CV 1/5] END learning_rate=0.001, n_estimators=30;, score=-0.115 total time=   0.1s\n",
            "[CV 2/5] END learning_rate=0.001, n_estimators=30;, score=-0.112 total time=   0.1s\n",
            "[CV 3/5] END learning_rate=0.001, n_estimators=30;, score=-0.122 total time=   0.1s\n",
            "[CV 4/5] END learning_rate=0.001, n_estimators=30;, score=-0.074 total time=   0.1s\n",
            "[CV 5/5] END learning_rate=0.001, n_estimators=30;, score=-0.123 total time=   0.1s\n",
            "[CV 1/5] END learning_rate=0.2, n_estimators=90;, score=-0.113 total time=   0.1s\n",
            "[CV 2/5] END learning_rate=0.2, n_estimators=90;, score=-0.126 total time=   0.2s\n",
            "[CV 3/5] END learning_rate=0.2, n_estimators=90;, score=-0.110 total time=   0.1s\n",
            "[CV 4/5] END learning_rate=0.2, n_estimators=90;, score=-0.091 total time=   0.1s\n",
            "[CV 5/5] END learning_rate=0.2, n_estimators=90;, score=-0.115 total time=   0.1s\n",
            "[CV 1/5] END learning_rate=0.001, n_estimators=40;, score=-0.116 total time=   0.1s\n",
            "[CV 2/5] END learning_rate=0.001, n_estimators=40;, score=-0.110 total time=   0.1s\n",
            "[CV 3/5] END learning_rate=0.001, n_estimators=40;, score=-0.120 total time=   0.1s\n",
            "[CV 4/5] END learning_rate=0.001, n_estimators=40;, score=-0.073 total time=   0.1s\n",
            "[CV 5/5] END learning_rate=0.001, n_estimators=40;, score=-0.119 total time=   0.1s\n",
            "[CV 1/5] END learning_rate=0.1, n_estimators=70;, score=-0.118 total time=   0.1s\n",
            "[CV 2/5] END learning_rate=0.1, n_estimators=70;, score=-0.109 total time=   0.1s\n",
            "[CV 3/5] END learning_rate=0.1, n_estimators=70;, score=-0.104 total time=   0.1s\n",
            "[CV 4/5] END learning_rate=0.1, n_estimators=70;, score=-0.096 total time=   0.1s\n",
            "[CV 5/5] END learning_rate=0.1, n_estimators=70;, score=-0.113 total time=   0.1s\n",
            "[CV 1/5] END learning_rate=0.01, n_estimators=90;, score=-0.113 total time=   0.2s\n",
            "[CV 2/5] END learning_rate=0.01, n_estimators=90;, score=-0.105 total time=   0.2s\n",
            "[CV 3/5] END learning_rate=0.01, n_estimators=90;, score=-0.103 total time=   0.2s\n",
            "[CV 4/5] END learning_rate=0.01, n_estimators=90;, score=-0.076 total time=   0.2s\n",
            "[CV 5/5] END learning_rate=0.01, n_estimators=90;, score=-0.114 total time=   0.2s\n",
            "[CV 1/5] END learning_rate=0.2, n_estimators=70;, score=-0.113 total time=   0.1s\n",
            "[CV 2/5] END learning_rate=0.2, n_estimators=70;, score=-0.121 total time=   0.1s\n",
            "[CV 3/5] END learning_rate=0.2, n_estimators=70;, score=-0.110 total time=   0.1s\n",
            "[CV 4/5] END learning_rate=0.2, n_estimators=70;, score=-0.091 total time=   0.1s\n",
            "[CV 5/5] END learning_rate=0.2, n_estimators=70;, score=-0.115 total time=   0.1s\n",
            "[CV 1/5] END learning_rate=0.1, n_estimators=30;, score=-0.119 total time=   0.1s\n",
            "[CV 2/5] END learning_rate=0.1, n_estimators=30;, score=-0.106 total time=   0.1s\n",
            "[CV 3/5] END learning_rate=0.1, n_estimators=30;, score=-0.102 total time=   0.1s\n",
            "[CV 4/5] END learning_rate=0.1, n_estimators=30;, score=-0.087 total time=   0.1s\n",
            "[CV 5/5] END learning_rate=0.1, n_estimators=30;, score=-0.114 total time=   0.1s\n",
            "[CV 1/5] END learning_rate=0.2, n_estimators=80;, score=-0.113 total time=   0.1s\n",
            "[CV 2/5] END learning_rate=0.2, n_estimators=80;, score=-0.124 total time=   0.2s\n",
            "[CV 3/5] END learning_rate=0.2, n_estimators=80;, score=-0.110 total time=   0.1s\n",
            "[CV 4/5] END learning_rate=0.2, n_estimators=80;, score=-0.091 total time=   0.1s\n",
            "[CV 5/5] END learning_rate=0.2, n_estimators=80;, score=-0.115 total time=   0.1s\n"
          ]
        },
        {
          "output_type": "execute_result",
          "data": {
            "text/plain": [
              "RandomizedSearchCV(estimator=AdaBoostRegressor(random_state=123),\n",
              "                   param_distributions={'learning_rate': [0.001, 0.01, 0.1,\n",
              "                                                          0.2],\n",
              "                                        'n_estimators': array([10, 20, 30, 40, 50, 60, 70, 80, 90])},\n",
              "                   scoring='neg_mean_squared_error', verbose=3)"
            ]
          },
          "metadata": {},
          "execution_count": 45
        }
      ]
    },
    {
      "cell_type": "markdown",
      "source": [
        "Selanjutnya kita akan mengecek hasil tuning parameter dan nilai metrik MSE nya."
      ],
      "metadata": {
        "id": "4Q-MmQyAsNF-"
      }
    },
    {
      "cell_type": "code",
      "source": [
        "print(\"Hasil tuning parameter\", randomized_search.best_params_)\n",
        "\n",
        "print(\"Nilai MSE model RandomSearchCV dengan data latih\", mean_squared_error(\n",
        "    y_pred=randomized_search.predict(X_train),\n",
        "    y_true=y_train))\n",
        "print(\"Nilai MSE model RandomSearchCV_AB dengan data uji\", mean_squared_error(\n",
        "    y_pred=randomized_search.predict(X_test),\n",
        "    y_true=y_test))"
      ],
      "metadata": {
        "colab": {
          "base_uri": "https://localhost:8080/"
        },
        "id": "X71HedZEsXWu",
        "outputId": "e7c5a6ef-65a9-4767-a4d8-d8ce3268bb36"
      },
      "execution_count": 46,
      "outputs": [
        {
          "output_type": "stream",
          "name": "stdout",
          "text": [
            "Hasil tuning parameter {'n_estimators': 90, 'learning_rate': 0.01}\n",
            "Nilai MSE model RandomSearchCV dengan data latih 0.07942373927636698\n",
            "Nilai MSE model RandomSearchCV_AB dengan data uji 0.15041054738349785\n"
          ]
        }
      ]
    },
    {
      "cell_type": "markdown",
      "source": [
        "Berdasarkan output di atas didapatkan nilai `learning_rate` = 0.01 dan `n_estimators` = 90 yang menghasilkan nilai MSE terbaik pada data latih yakni 0.079 dan pada data uji 0.1504."
      ],
      "metadata": {
        "id": "6pb8loiqtYdt"
      }
    },
    {
      "cell_type": "markdown",
      "source": [
        "Oleh karena itu nilai-nilai tersebut akan kita terapkan pada pengaturan pemodelan, berikut penerapannya."
      ],
      "metadata": {
        "id": "DAWklhURt2tA"
      }
    },
    {
      "cell_type": "code",
      "source": [
        "boosting = AdaBoostRegressor(n_estimators=90, learning_rate=0.01, random_state=55)                             \n",
        "boosting.fit(X_train, y_train)\n",
        "models.loc['train_mse','Boosting'] = mean_squared_error(y_pred=boosting.predict(X_train), y_true=y_train)"
      ],
      "metadata": {
        "id": "vi0JsUAR_fZ2"
      },
      "execution_count": 47,
      "outputs": []
    },
    {
      "cell_type": "markdown",
      "source": [
        "\n",
        "\n",
        "---\n",
        "**Melakukan Scaling pada Data Uji**"
      ],
      "metadata": {
        "id": "9U7c8PvK_j-M"
      }
    },
    {
      "cell_type": "markdown",
      "source": [
        "Hal ini harus dilakukan agar skala antara data latih dan data uji sama dan kita bisa melakukan evaluasi."
      ],
      "metadata": {
        "id": "nGlvbGURuKSd"
      }
    },
    {
      "cell_type": "code",
      "source": [
        "# Lakukan scaling terhadap fitur numerik pada X_test sehingga memiliki rata-rata=0 dan varians=1\n",
        "X_test.loc[:, numerical_features] = scaler.transform(X_test[numerical_features])"
      ],
      "metadata": {
        "id": "h9Bs96CJ_l69"
      },
      "execution_count": 48,
      "outputs": []
    },
    {
      "cell_type": "markdown",
      "source": [
        "## **Evaluasi Model**"
      ],
      "metadata": {
        "id": "Ylj7_eGH_yS2"
      }
    },
    {
      "cell_type": "markdown",
      "source": [
        "Pada tahap Modeling atau pemodelan kita telah membuat 3 model menggunakan algoritma yang berbeda. Selanjutnya pada tahap ini akan dilakukan evaluasi model-model yang telah dibuat menggunakan metrik MSE (_Mean Squared Error_). Berikut penerapannya."
      ],
      "metadata": {
        "id": "NFehb41uuWYw"
      }
    },
    {
      "cell_type": "code",
      "source": [
        "# Buat variabel mse yang isinya adalah dataframe nilai mse data train dan test pada masing-masing algoritma\n",
        "mse = pd.DataFrame(columns=['train', 'test'], index=['KNN','RF','Boosting'])\n",
        " \n",
        "# Buat dictionary untuk setiap algoritma yang digunakan\n",
        "model_dict = {'KNN': knn, 'RF': RF, 'Boosting': boosting}\n",
        " \n",
        "# Hitung Mean Squared Error masing-masing algoritma pada data train dan test\n",
        "for name, model in model_dict.items():\n",
        "    mse.loc[name, 'train'] = mean_squared_error(y_true=y_train, y_pred=model.predict(X_train))/1e3 \n",
        "    mse.loc[name, 'test'] = mean_squared_error(y_true=y_test, y_pred=model.predict(X_test))/1e3\n",
        " \n",
        "# Panggil mse\n",
        "mse"
      ],
      "metadata": {
        "colab": {
          "base_uri": "https://localhost:8080/",
          "height": 143
        },
        "id": "6fwr7wpt_1LT",
        "outputId": "d24625d6-f4c2-4e15-8c10-39dfa78972e7"
      },
      "execution_count": 49,
      "outputs": [
        {
          "output_type": "execute_result",
          "data": {
            "text/plain": [
              "             train      test\n",
              "KNN        0.00009  0.000168\n",
              "RF        0.000065   0.00018\n",
              "Boosting   0.00008   0.00018"
            ],
            "text/html": [
              "\n",
              "  <div id=\"df-e89850d0-4b81-4824-8886-07eaa4a31356\">\n",
              "    <div class=\"colab-df-container\">\n",
              "      <div>\n",
              "<style scoped>\n",
              "    .dataframe tbody tr th:only-of-type {\n",
              "        vertical-align: middle;\n",
              "    }\n",
              "\n",
              "    .dataframe tbody tr th {\n",
              "        vertical-align: top;\n",
              "    }\n",
              "\n",
              "    .dataframe thead th {\n",
              "        text-align: right;\n",
              "    }\n",
              "</style>\n",
              "<table border=\"1\" class=\"dataframe\">\n",
              "  <thead>\n",
              "    <tr style=\"text-align: right;\">\n",
              "      <th></th>\n",
              "      <th>train</th>\n",
              "      <th>test</th>\n",
              "    </tr>\n",
              "  </thead>\n",
              "  <tbody>\n",
              "    <tr>\n",
              "      <th>KNN</th>\n",
              "      <td>0.00009</td>\n",
              "      <td>0.000168</td>\n",
              "    </tr>\n",
              "    <tr>\n",
              "      <th>RF</th>\n",
              "      <td>0.000065</td>\n",
              "      <td>0.00018</td>\n",
              "    </tr>\n",
              "    <tr>\n",
              "      <th>Boosting</th>\n",
              "      <td>0.00008</td>\n",
              "      <td>0.00018</td>\n",
              "    </tr>\n",
              "  </tbody>\n",
              "</table>\n",
              "</div>\n",
              "      <button class=\"colab-df-convert\" onclick=\"convertToInteractive('df-e89850d0-4b81-4824-8886-07eaa4a31356')\"\n",
              "              title=\"Convert this dataframe to an interactive table.\"\n",
              "              style=\"display:none;\">\n",
              "        \n",
              "  <svg xmlns=\"http://www.w3.org/2000/svg\" height=\"24px\"viewBox=\"0 0 24 24\"\n",
              "       width=\"24px\">\n",
              "    <path d=\"M0 0h24v24H0V0z\" fill=\"none\"/>\n",
              "    <path d=\"M18.56 5.44l.94 2.06.94-2.06 2.06-.94-2.06-.94-.94-2.06-.94 2.06-2.06.94zm-11 1L8.5 8.5l.94-2.06 2.06-.94-2.06-.94L8.5 2.5l-.94 2.06-2.06.94zm10 10l.94 2.06.94-2.06 2.06-.94-2.06-.94-.94-2.06-.94 2.06-2.06.94z\"/><path d=\"M17.41 7.96l-1.37-1.37c-.4-.4-.92-.59-1.43-.59-.52 0-1.04.2-1.43.59L10.3 9.45l-7.72 7.72c-.78.78-.78 2.05 0 2.83L4 21.41c.39.39.9.59 1.41.59.51 0 1.02-.2 1.41-.59l7.78-7.78 2.81-2.81c.8-.78.8-2.07 0-2.86zM5.41 20L4 18.59l7.72-7.72 1.47 1.35L5.41 20z\"/>\n",
              "  </svg>\n",
              "      </button>\n",
              "      \n",
              "  <style>\n",
              "    .colab-df-container {\n",
              "      display:flex;\n",
              "      flex-wrap:wrap;\n",
              "      gap: 12px;\n",
              "    }\n",
              "\n",
              "    .colab-df-convert {\n",
              "      background-color: #E8F0FE;\n",
              "      border: none;\n",
              "      border-radius: 50%;\n",
              "      cursor: pointer;\n",
              "      display: none;\n",
              "      fill: #1967D2;\n",
              "      height: 32px;\n",
              "      padding: 0 0 0 0;\n",
              "      width: 32px;\n",
              "    }\n",
              "\n",
              "    .colab-df-convert:hover {\n",
              "      background-color: #E2EBFA;\n",
              "      box-shadow: 0px 1px 2px rgba(60, 64, 67, 0.3), 0px 1px 3px 1px rgba(60, 64, 67, 0.15);\n",
              "      fill: #174EA6;\n",
              "    }\n",
              "\n",
              "    [theme=dark] .colab-df-convert {\n",
              "      background-color: #3B4455;\n",
              "      fill: #D2E3FC;\n",
              "    }\n",
              "\n",
              "    [theme=dark] .colab-df-convert:hover {\n",
              "      background-color: #434B5C;\n",
              "      box-shadow: 0px 1px 3px 1px rgba(0, 0, 0, 0.15);\n",
              "      filter: drop-shadow(0px 1px 2px rgba(0, 0, 0, 0.3));\n",
              "      fill: #FFFFFF;\n",
              "    }\n",
              "  </style>\n",
              "\n",
              "      <script>\n",
              "        const buttonEl =\n",
              "          document.querySelector('#df-e89850d0-4b81-4824-8886-07eaa4a31356 button.colab-df-convert');\n",
              "        buttonEl.style.display =\n",
              "          google.colab.kernel.accessAllowed ? 'block' : 'none';\n",
              "\n",
              "        async function convertToInteractive(key) {\n",
              "          const element = document.querySelector('#df-e89850d0-4b81-4824-8886-07eaa4a31356');\n",
              "          const dataTable =\n",
              "            await google.colab.kernel.invokeFunction('convertToInteractive',\n",
              "                                                     [key], {});\n",
              "          if (!dataTable) return;\n",
              "\n",
              "          const docLinkHtml = 'Like what you see? Visit the ' +\n",
              "            '<a target=\"_blank\" href=https://colab.research.google.com/notebooks/data_table.ipynb>data table notebook</a>'\n",
              "            + ' to learn more about interactive tables.';\n",
              "          element.innerHTML = '';\n",
              "          dataTable['output_type'] = 'display_data';\n",
              "          await google.colab.output.renderOutput(dataTable, element);\n",
              "          const docLink = document.createElement('div');\n",
              "          docLink.innerHTML = docLinkHtml;\n",
              "          element.appendChild(docLink);\n",
              "        }\n",
              "      </script>\n",
              "    </div>\n",
              "  </div>\n",
              "  "
            ]
          },
          "metadata": {},
          "execution_count": 49
        }
      ]
    },
    {
      "cell_type": "markdown",
      "source": [
        "Untuk memudahkan dalam mengevaluasi model kita akan melakukan visualisasi hasil menggunakan bar chart sebagai berikut."
      ],
      "metadata": {
        "id": "uEfrF-C_u3_l"
      }
    },
    {
      "cell_type": "code",
      "source": [
        "# membuat plot metrik evaluasi\n",
        "fig, ax = plt.subplots()\n",
        "mse.sort_values(by='test', ascending=False).plot(kind='barh', ax=ax, zorder=3)\n",
        "ax.grid(zorder=0)"
      ],
      "metadata": {
        "colab": {
          "base_uri": "https://localhost:8080/",
          "height": 268
        },
        "id": "jl_zIXs1__oy",
        "outputId": "5e304252-6ab3-4345-9bca-7fcf875a29b9"
      },
      "execution_count": 50,
      "outputs": [
        {
          "output_type": "display_data",
          "data": {
            "text/plain": [
              "<Figure size 432x288 with 1 Axes>"
            ],
            "image/png": "[encoded data removed]"
          },
          "metadata": {}
        }
      ]
    },
    {
      "cell_type": "markdown",
      "source": [
        "Berdasarkan bar chart di atas dapat terlihat bahwa model dengan algoritma Random Forest (RF) memberikan nilai MSE yang paling kecil, sedangkan model dengan algoritma K-Nearest Neighbor (KNN) memberikan nilai MSE yang paling besar. "
      ],
      "metadata": {
        "id": "mrdCCjTcvT_p"
      }
    },
    {
      "cell_type": "markdown",
      "source": [
        "Sebelum menarik kesimpulan terkait model terbaik untuk memprediksi probabilitas gagal jantung (_Heart Disease_) kita akan melakukan uji coba prediksi menggunakan beberapa sampel acak pada data uji sebagai berikut."
      ],
      "metadata": {
        "id": "R1KAlFD5vmH_"
      }
    },
    {
      "cell_type": "markdown",
      "source": [
        "**Menguji Menggunakan beberapa Sampel Acak dari Dataset**"
      ],
      "metadata": {
        "id": "ZF5-eeQvAJpN"
      }
    },
    {
      "cell_type": "code",
      "source": [
        "prediksi = X_test.iloc[:5].copy()\n",
        "pred_dict = {'y_true':y_test[:5]}\n",
        "for name, model in model_dict.items():\n",
        "    pred_dict['prediksi_'+name] = model.predict(prediksi).round(2)\n",
        " \n",
        "pd.DataFrame(pred_dict)"
      ],
      "metadata": {
        "colab": {
          "base_uri": "https://localhost:8080/",
          "height": 206
        },
        "id": "5f4B4YbpALJH",
        "outputId": "edc2bc18-a5d2-44c5-e606-edbec8420e09"
      },
      "execution_count": 51,
      "outputs": [
        {
          "output_type": "execute_result",
          "data": {
            "text/plain": [
              "     y_true  prediksi_KNN  prediksi_RF  prediksi_Boosting\n",
              "444       1          0.65         0.85               0.90\n",
              "59        1          0.60         0.84               0.90\n",
              "917       0          0.30         0.02               0.02\n",
              "221       1          0.65         0.83               0.71\n",
              "636       0          0.35         0.70               0.80"
            ],
            "text/html": [
              "\n",
              "  <div id=\"df-52ece988-61d4-4d0a-a2f2-81bc6678c24c\">\n",
              "    <div class=\"colab-df-container\">\n",
              "      <div>\n",
              "<style scoped>\n",
              "    .dataframe tbody tr th:only-of-type {\n",
              "        vertical-align: middle;\n",
              "    }\n",
              "\n",
              "    .dataframe tbody tr th {\n",
              "        vertical-align: top;\n",
              "    }\n",
              "\n",
              "    .dataframe thead th {\n",
              "        text-align: right;\n",
              "    }\n",
              "</style>\n",
              "<table border=\"1\" class=\"dataframe\">\n",
              "  <thead>\n",
              "    <tr style=\"text-align: right;\">\n",
              "      <th></th>\n",
              "      <th>y_true</th>\n",
              "      <th>prediksi_KNN</th>\n",
              "      <th>prediksi_RF</th>\n",
              "      <th>prediksi_Boosting</th>\n",
              "    </tr>\n",
              "  </thead>\n",
              "  <tbody>\n",
              "    <tr>\n",
              "      <th>444</th>\n",
              "      <td>1</td>\n",
              "      <td>0.65</td>\n",
              "      <td>0.85</td>\n",
              "      <td>0.90</td>\n",
              "    </tr>\n",
              "    <tr>\n",
              "      <th>59</th>\n",
              "      <td>1</td>\n",
              "      <td>0.60</td>\n",
              "      <td>0.84</td>\n",
              "      <td>0.90</td>\n",
              "    </tr>\n",
              "    <tr>\n",
              "      <th>917</th>\n",
              "      <td>0</td>\n",
              "      <td>0.30</td>\n",
              "      <td>0.02</td>\n",
              "      <td>0.02</td>\n",
              "    </tr>\n",
              "    <tr>\n",
              "      <th>221</th>\n",
              "      <td>1</td>\n",
              "      <td>0.65</td>\n",
              "      <td>0.83</td>\n",
              "      <td>0.71</td>\n",
              "    </tr>\n",
              "    <tr>\n",
              "      <th>636</th>\n",
              "      <td>0</td>\n",
              "      <td>0.35</td>\n",
              "      <td>0.70</td>\n",
              "      <td>0.80</td>\n",
              "    </tr>\n",
              "  </tbody>\n",
              "</table>\n",
              "</div>\n",
              "      <button class=\"colab-df-convert\" onclick=\"convertToInteractive('df-52ece988-61d4-4d0a-a2f2-81bc6678c24c')\"\n",
              "              title=\"Convert this dataframe to an interactive table.\"\n",
              "              style=\"display:none;\">\n",
              "        \n",
              "  <svg xmlns=\"http://www.w3.org/2000/svg\" height=\"24px\"viewBox=\"0 0 24 24\"\n",
              "       width=\"24px\">\n",
              "    <path d=\"M0 0h24v24H0V0z\" fill=\"none\"/>\n",
              "    <path d=\"M18.56 5.44l.94 2.06.94-2.06 2.06-.94-2.06-.94-.94-2.06-.94 2.06-2.06.94zm-11 1L8.5 8.5l.94-2.06 2.06-.94-2.06-.94L8.5 2.5l-.94 2.06-2.06.94zm10 10l.94 2.06.94-2.06 2.06-.94-2.06-.94-.94-2.06-.94 2.06-2.06.94z\"/><path d=\"M17.41 7.96l-1.37-1.37c-.4-.4-.92-.59-1.43-.59-.52 0-1.04.2-1.43.59L10.3 9.45l-7.72 7.72c-.78.78-.78 2.05 0 2.83L4 21.41c.39.39.9.59 1.41.59.51 0 1.02-.2 1.41-.59l7.78-7.78 2.81-2.81c.8-.78.8-2.07 0-2.86zM5.41 20L4 18.59l7.72-7.72 1.47 1.35L5.41 20z\"/>\n",
              "  </svg>\n",
              "      </button>\n",
              "      \n",
              "  <style>\n",
              "    .colab-df-container {\n",
              "      display:flex;\n",
              "      flex-wrap:wrap;\n",
              "      gap: 12px;\n",
              "    }\n",
              "\n",
              "    .colab-df-convert {\n",
              "      background-color: #E8F0FE;\n",
              "      border: none;\n",
              "      border-radius: 50%;\n",
              "      cursor: pointer;\n",
              "      display: none;\n",
              "      fill: #1967D2;\n",
              "      height: 32px;\n",
              "      padding: 0 0 0 0;\n",
              "      width: 32px;\n",
              "    }\n",
              "\n",
              "    .colab-df-convert:hover {\n",
              "      background-color: #E2EBFA;\n",
              "      box-shadow: 0px 1px 2px rgba(60, 64, 67, 0.3), 0px 1px 3px 1px rgba(60, 64, 67, 0.15);\n",
              "      fill: #174EA6;\n",
              "    }\n",
              "\n",
              "    [theme=dark] .colab-df-convert {\n",
              "      background-color: #3B4455;\n",
              "      fill: #D2E3FC;\n",
              "    }\n",
              "\n",
              "    [theme=dark] .colab-df-convert:hover {\n",
              "      background-color: #434B5C;\n",
              "      box-shadow: 0px 1px 3px 1px rgba(0, 0, 0, 0.15);\n",
              "      filter: drop-shadow(0px 1px 2px rgba(0, 0, 0, 0.3));\n",
              "      fill: #FFFFFF;\n",
              "    }\n",
              "  </style>\n",
              "\n",
              "      <script>\n",
              "        const buttonEl =\n",
              "          document.querySelector('#df-52ece988-61d4-4d0a-a2f2-81bc6678c24c button.colab-df-convert');\n",
              "        buttonEl.style.display =\n",
              "          google.colab.kernel.accessAllowed ? 'block' : 'none';\n",
              "\n",
              "        async function convertToInteractive(key) {\n",
              "          const element = document.querySelector('#df-52ece988-61d4-4d0a-a2f2-81bc6678c24c');\n",
              "          const dataTable =\n",
              "            await google.colab.kernel.invokeFunction('convertToInteractive',\n",
              "                                                     [key], {});\n",
              "          if (!dataTable) return;\n",
              "\n",
              "          const docLinkHtml = 'Like what you see? Visit the ' +\n",
              "            '<a target=\"_blank\" href=https://colab.research.google.com/notebooks/data_table.ipynb>data table notebook</a>'\n",
              "            + ' to learn more about interactive tables.';\n",
              "          element.innerHTML = '';\n",
              "          dataTable['output_type'] = 'display_data';\n",
              "          await google.colab.output.renderOutput(dataTable, element);\n",
              "          const docLink = document.createElement('div');\n",
              "          docLink.innerHTML = docLinkHtml;\n",
              "          element.appendChild(docLink);\n",
              "        }\n",
              "      </script>\n",
              "    </div>\n",
              "  </div>\n",
              "  "
            ]
          },
          "metadata": {},
          "execution_count": 51
        }
      ]
    },
    {
      "cell_type": "markdown",
      "source": [
        "##**Kesimpulan**"
      ],
      "metadata": {
        "id": "EOkMItXZwlyX"
      }
    },
    {
      "cell_type": "markdown",
      "source": [
        "* Berdasarkan _Correlation Matrix_ dapat dilihat bahwa fitur yang memiliki korelasi cukup kuat dibandingkan fitur lainnya dengan fitur Heart Disease (target) adalah fitur `Oldpeak` (skor korelasi 0.52) dan `MaxHR` (skor korelasi -0.38).\n",
        "\n",
        "* Berdasarkan hasil evaluasi dapat disimpulkan bahwa model terbaik untuk prediksi adalah model dengan algoritma Random Forest (RF). Dengan pengaturan parameter n_estimators = 60 dan max_depth = 4 didapatkan nilai metrik terkecil jika dibandingkan dengan model algoritma lain, yakni _Mean Squared Error_ (MSE) sebesar 0.000065 (data latih) dan 0.00018 (data uji). Selain itu pada uji prediksi menggunakan sampel acak dapat terlihat bahwa model Random Forest mampu secara signifikan memprediksi mendekati hasil yang benar."
      ],
      "metadata": {
        "id": "KVbVW0pYwsAe"
      }
    },
    {
      "cell_type": "markdown",
      "source": [
        "## **Daftar Referensi**"
      ],
      "metadata": {
        "id": "ZlK68HN7CYHK"
      }
    },
    {
      "cell_type": "markdown",
      "source": [
        "[1] Murti, Tyan Adhi Kurnia and , Ns. Beti Kristinawati, M.Kep., Sp. Kep. M.B (2019) Gambaran Lama Hari Rawat Pasien Gagal Jantung di Rsud Dr.Moewardi Kota Surakarta. Skripsi thesis, Universitas Muhammadiyah Surakarta. [[Link]](http://eprints.ums.ac.id/73699/3/BAB%20I.pdf)\n",
        "\n",
        "[2] S. P. Tamba and E. -, “PREDIKSI PENYAKIT GAGAL JANTUNG DENGAN MENGGUNAKAN RANDOM FOREST”, JUSIKOM PRIMA, vol. 5, no. 2, pp. 176 - 181, Mar. 2022. [[Link]](http://jurnal.unprimdn.ac.id/index.php/JUSIKOM/article/view/2445/1498) \n",
        "\n",
        "[5] fedesoriano. (September 2021). Heart Failure Prediction Dataset. Retrieved [Date Retrieved] from https://www.kaggle.com/fedesoriano/heart-failure-prediction."
      ],
      "metadata": {
        "id": "k-Ow7ImoCa6O"
      }
    }
  ],
  "metadata": {
    "colab": {
      "provenance": [],
      "collapsed_sections": []
    },
    "kernelspec": {
      "display_name": "Python 3",
      "name": "python3"
    },
    "language_info": {
      "name": "python"
    }
  },
  "nbformat": 4,
  "nbformat_minor": 0
}